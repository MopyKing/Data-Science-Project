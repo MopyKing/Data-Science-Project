{
 "cells": [
  {
   "cell_type": "markdown",
   "id": "bc8a4147",
   "metadata": {},
   "source": [
    "# Hotel Rating Prediction\n",
    "In this project we will inspect the question   \n",
    "whether we can or can not predict the overall rating on a given hotel  \n",
    "according to different parameters which we already know"
   ]
  },
  {
   "cell_type": "markdown",
   "id": "56c1b7b7",
   "metadata": {},
   "source": [
    "## Data Acquisition "
   ]
  },
  {
   "cell_type": "markdown",
   "id": "f3574a06",
   "metadata": {},
   "source": [
    "At this step we are going to acquire the data we need from the website  \n",
    "and create the DataFrame which will serve us throughout the project."
   ]
  },
  {
   "cell_type": "code",
   "execution_count": 2,
   "id": "86a161df",
   "metadata": {},
   "outputs": [],
   "source": [
    "# First lets import the libraries we need :\n",
    "import requests\n",
    "import pandas as pd\n",
    "import numpy as np\n",
    "import scipy as sc\n",
    "from bs4 import BeautifulSoup\n",
    "import time\n",
    "import os\n",
    "import datetime\n",
    "import matplotlib.pyplot as plt\n",
    "import matplotlib as mpl\n",
    "from matplotlib import colors\n",
    "from matplotlib.ticker import PercentFormatter\n",
    "import seaborn as sns\n",
    "import sklearn\n",
    "from sklearn.preprocessing import StandardScaler, MinMaxScaler\n",
    "\n",
    "# The next command will be responsible to display graphs in our notebook.\n",
    "%matplotlib inline"
   ]
  },
  {
   "cell_type": "markdown",
   "id": "e0aebd2e",
   "metadata": {},
   "source": [
    "### Crawling "
   ]
  },
  {
   "cell_type": "markdown",
   "id": "2185cd78",
   "metadata": {},
   "source": [
    "We will now fetch what we need from the website \"Booking.com\""
   ]
  },
  {
   "cell_type": "code",
   "execution_count": 34,
   "id": "7f7460c6",
   "metadata": {
    "scrolled": true
   },
   "outputs": [
    {
     "name": "stdout",
     "output_type": "stream",
     "text": [
      "\n",
      " https://www.booking.com/he/region/il/south-district-israel.he.html?label=gen173nr-1BCAEoggI46AdIDlgEaGqIAQGYAQ64AQrIAQXYAQHoAQGIAgGoAgO4ArGupZMGwAIB0gIkMTA0ZWRiODEtYmE5MS00ZTI4LTk5ZjUtZmEyNTdjOWI4Yzg12AIF4AIB;sid=a3c8a750a12c6d816875a3d7e736dbce\n",
      "\n",
      " https://www.booking.com/he/region/il/jerusalem-district.he.html?label=gen173nr-1BCAEoggI46AdIDlgEaGqIAQGYAQ64AQrIAQXYAQHoAQGIAgGoAgO4ArGupZMGwAIB0gIkMTA0ZWRiODEtYmE5MS00ZTI4LTk5ZjUtZmEyNTdjOWI4Yzg12AIF4AIB;sid=a3c8a750a12c6d816875a3d7e736dbce\n",
      "\n",
      " https://www.booking.com/he/region/il/center-district-israel.he.html?label=gen173nr-1BCAEoggI46AdIDlgEaGqIAQGYAQ64AQrIAQXYAQHoAQGIAgGoAgO4ArGupZMGwAIB0gIkMTA0ZWRiODEtYmE5MS00ZTI4LTk5ZjUtZmEyNTdjOWI4Yzg12AIF4AIB;sid=a3c8a750a12c6d816875a3d7e736dbce\n",
      "\n",
      " https://www.booking.com/he/region/il/tel-aviv-district.he.html?label=gen173nr-1BCAEoggI46AdIDlgEaGqIAQGYAQ64AQrIAQXYAQHoAQGIAgGoAgO4ArGupZMGwAIB0gIkMTA0ZWRiODEtYmE5MS00ZTI4LTk5ZjUtZmEyNTdjOWI4Yzg12AIF4AIB;sid=a3c8a750a12c6d816875a3d7e736dbce\n",
      "\n",
      " https://www.booking.com/he/region/il/galilee.he.html?label=gen173nr-1BCAEoggI46AdIDlgEaGqIAQGYAQ64AQrIAQXYAQHoAQGIAgGoAgO4ArGupZMGwAIB0gIkMTA0ZWRiODEtYmE5MS00ZTI4LTk5ZjUtZmEyNTdjOWI4Yzg12AIF4AIB;sid=a3c8a750a12c6d816875a3d7e736dbce\n",
      "\n",
      " https://www.booking.com/he/region/il/sea-of-galilee.he.html?label=gen173nr-1BCAEoggI46AdIDlgEaGqIAQGYAQ64AQrIAQXYAQHoAQGIAgGoAgO4ArGupZMGwAIB0gIkMTA0ZWRiODEtYmE5MS00ZTI4LTk5ZjUtZmEyNTdjOWI4Yzg12AIF4AIB;sid=a3c8a750a12c6d816875a3d7e736dbce\n",
      "\n",
      " https://www.booking.com/he/region/il/negev.he.html?label=gen173nr-1BCAEoggI46AdIDlgEaGqIAQGYAQ64AQrIAQXYAQHoAQGIAgGoAgO4ArGupZMGwAIB0gIkMTA0ZWRiODEtYmE5MS00ZTI4LTk5ZjUtZmEyNTdjOWI4Yzg12AIF4AIB;sid=a3c8a750a12c6d816875a3d7e736dbce\n",
      "\n",
      " https://www.booking.com/he/region/il/north-district-israel.he.html?label=gen173nr-1BCAEoggI46AdIDlgEaGqIAQGYAQ64AQrIAQXYAQHoAQGIAgGoAgO4ArGupZMGwAIB0gIkMTA0ZWRiODEtYmE5MS00ZTI4LTk5ZjUtZmEyNTdjOWI4Yzg12AIF4AIB;sid=a3c8a750a12c6d816875a3d7e736dbce\n",
      "\n",
      " https://www.booking.com/he/region/il/dead-sea.he.html?label=gen173nr-1BCAEoggI46AdIDlgEaGqIAQGYAQ64AQrIAQXYAQHoAQGIAgGoAgO4ArGupZMGwAIB0gIkMTA0ZWRiODEtYmE5MS00ZTI4LTk5ZjUtZmEyNTdjOWI4Yzg12AIF4AIB;sid=a3c8a750a12c6d816875a3d7e736dbce\n",
      "\n",
      " https://www.booking.com/he/region/il/upper-galilee.he.html?label=gen173nr-1BCAEoggI46AdIDlgEaGqIAQGYAQ64AQrIAQXYAQHoAQGIAgGoAgO4ArGupZMGwAIB0gIkMTA0ZWRiODEtYmE5MS00ZTI4LTk5ZjUtZmEyNTdjOWI4Yzg12AIF4AIB;sid=a3c8a750a12c6d816875a3d7e736dbce\n",
      "\n",
      " https://www.booking.com/he/region/il/golan-heights.he.html?label=gen173nr-1BCAEoggI46AdIDlgEaGqIAQGYAQ64AQrIAQXYAQHoAQGIAgGoAgO4ArGupZMGwAIB0gIkMTA0ZWRiODEtYmE5MS00ZTI4LTk5ZjUtZmEyNTdjOWI4Yzg12AIF4AIB;sid=a3c8a750a12c6d816875a3d7e736dbce\n",
      "['סנטוריני', 'דרום הארץ', 'אזור ירושלים', 'אזור המרכז', 'אזור תל אביב', 'גליל', 'כנרת', 'נגב', 'קורפו', 'צפון הארץ', 'כרתים', 'רודוס', 'ים המלח', 'דרום סיני', 'גליל מערבי', 'מיקונוס', 'מלדיבים', 'גליל עליון', 'רמת הגולן']\n",
      "[1, 2, 3, 4, 5, 6, 7, 9, 12, 17, 18]\n"
     ]
    }
   ],
   "source": [
    "# Lets get the URL and parser it before we create our DataFrame\n",
    "URL = \"https://www.booking.com/he\"\n",
    "response = requests.get(URL,headers=0)\n",
    "soup1 = BeautifulSoup(response.content, \"html.parser\")\n",
    "\n",
    "# Now we will create the lists that will serve as the columns for the DataFrame\n",
    "Hotel_Name = []\n",
    "Staff_Rating = []\n",
    "Facilities_Rating = []\n",
    "Cleanliness_Rating = []\n",
    "Comfort_Rating = []\n",
    "Value_For_Money_Rating = []\n",
    "Location_Rating = []\n",
    "Free_WiFi_Rating = []\n",
    "\n",
    "\n",
    "\n",
    "searches = soup1.find(class_=\"ia_section-container clearfix wcu-seo-regions-poi\").find_all('a')\n",
    "cities = [\"אזור ירושלים\",\"אזור המרכז\",\"גליל\",\"גליל עליון\",\"כנרת\",\"אזור תל אביב\",\"דרום הארץ\",\"ים המלח\",\"נגב\",\"צפון הארץ\",\"רמת הגולן\"]\n",
    "names = []\n",
    "indexes = []\n",
    "counter = 0\n",
    "#print(searches)\n",
    "for i in searches:\n",
    "    name1 = i.get_text().replace(\"\\n\", \"\")\n",
    "    names.append(name1)\n",
    "    if name1 in cities:\n",
    "        indexes.append(counter)\n",
    "        href = searches[counter].get(\"href\").strip()\n",
    "        print(\"\\n\",URL + href)\n",
    "    counter+=1\n",
    "        \n",
    "print(names)\n",
    "print(indexes)\n",
    "\n",
    "\n",
    "    \n",
    "    "
   ]
  },
  {
   "cell_type": "code",
   "execution_count": null,
   "id": "65f9da0f",
   "metadata": {},
   "outputs": [],
   "source": []
  },
  {
   "cell_type": "code",
   "execution_count": null,
   "id": "a969288f",
   "metadata": {},
   "outputs": [],
   "source": []
  },
  {
   "cell_type": "code",
   "execution_count": null,
   "id": "84687025",
   "metadata": {},
   "outputs": [],
   "source": []
  },
  {
   "cell_type": "code",
   "execution_count": null,
   "id": "5d22583f",
   "metadata": {},
   "outputs": [],
   "source": []
  },
  {
   "cell_type": "code",
   "execution_count": null,
   "id": "08081883",
   "metadata": {},
   "outputs": [],
   "source": []
  }
 ],
 "metadata": {
  "kernelspec": {
   "display_name": "Python 3 (ipykernel)",
   "language": "python",
   "name": "python3"
  },
  "language_info": {
   "codemirror_mode": {
    "name": "ipython",
    "version": 3
   },
   "file_extension": ".py",
   "mimetype": "text/x-python",
   "name": "python",
   "nbconvert_exporter": "python",
   "pygments_lexer": "ipython3",
   "version": "3.9.7"
  }
 },
 "nbformat": 4,
 "nbformat_minor": 5
}
