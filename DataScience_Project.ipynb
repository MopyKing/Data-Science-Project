{
 "cells": [
  {
   "cell_type": "markdown",
   "id": "bc8a4147",
   "metadata": {},
   "source": [
    "# Hotel Rating Prediction\n",
    "In this project we will inspect the question   \n",
    "whether we can or can not predict the overall rating on a given hotel  \n",
    "according to different parameters which we already know (such as food rating, location rating etc.)"
   ]
  },
  {
   "cell_type": "markdown",
   "id": "56c1b7b7",
   "metadata": {},
   "source": [
    "## Importing Dependencies"
   ]
  },
  {
   "cell_type": "markdown",
   "id": "f3574a06",
   "metadata": {},
   "source": [
    "the next block will be responsible for installing and importing\n",
    "the necessary libraries and functions."
   ]
  },
  {
   "cell_type": "code",
   "execution_count": 1,
   "id": "86a161df",
   "metadata": {},
   "outputs": [],
   "source": [
    "# First lets import the libraries we need :\n",
    "import requests\n",
    "import pandas as pd\n",
    "import numpy as np\n",
    "import scipy as sc\n",
    "from bs4 import BeautifulSoup\n",
    "import time\n",
    "import os\n",
    "import datetime\n",
    "import matplotlib.pyplot as plt\n",
    "import matplotlib as mpl\n",
    "from matplotlib import colors\n",
    "from matplotlib.ticker import PercentFormatter\n",
    "from collections import Counter\n",
    "import seaborn as sns\n",
    "import sklearn\n",
    "from sklearn.preprocessing import StandardScaler, MinMaxScaler\n",
    "from sklearn.model_selection import train_test_split\n",
    "from sklearn.linear_model import LogisticRegression\n",
    "from sklearn import linear_model\n",
    "from selenium import webdriver\n",
    "from selenium.webdriver.chrome.service import Service\n",
    "from selenium.webdriver.common.keys import Keys\n",
    "from selenium.webdriver.common.by import By\n",
    "from selenium.webdriver.support.ui import WebDriverWait\n",
    "from selenium.webdriver.support import expected_conditions as EC\n",
    "\n",
    "\n",
    "# The next command will be responsible to display graphs in our notebook.\n",
    "%matplotlib inline"
   ]
  },
  {
   "cell_type": "markdown",
   "id": "494481a2",
   "metadata": {},
   "source": [
    "# Data Acquisition "
   ]
  },
  {
   "cell_type": "markdown",
   "id": "452e5b8e",
   "metadata": {},
   "source": [
    "At this step we are going to acquire the data we need from the website \"Booking.com\",  \n",
    "in order to build our DataFrame.  \n",
    "Booking.com does not provide an API, so the method we will be using is \"Crawling\",  \n",
    "that will iterate all pages and objects to access the required data."
   ]
  },
  {
   "cell_type": "markdown",
   "id": "e0aebd2e",
   "metadata": {},
   "source": [
    "## Crawling "
   ]
  },
  {
   "cell_type": "markdown",
   "id": "2185cd78",
   "metadata": {},
   "source": [
    "We will now fetch what we need from the website \"Booking.com\",  \n",
    "by inspecting the source code of each page and understanding the structure of the objects (hotels)  \n"
   ]
  },
  {
   "cell_type": "code",
   "execution_count": 2,
   "id": "5a7061ae",
   "metadata": {},
   "outputs": [],
   "source": [
    "# creating the function to load a beautifulsoup object that we can work on.\n",
    "def load_soup_object(link):\n",
    "    response_link = requests.get(link ,headers=0)\n",
    "    soup_object = BeautifulSoup(response_link.content, \"html.parser\")\n",
    "    return soup_object\n"
   ]
  },
  {
   "cell_type": "code",
   "execution_count": null,
   "id": "7f7460c6",
   "metadata": {
    "scrolled": true
   },
   "outputs": [],
   "source": [
    "# Lets get the URL and parse it before we create our DataFrame\n",
    "URL = \"https://www.booking.com/he\"\n",
    "soup = load_soup_object(URL)\n",
    "\n",
    "# Now we will create the lists that will serve as the columns for the DataFrame\n",
    "Hotel_Name = []\n",
    "Staff_Rating = []\n",
    "Facilities_Rating = []\n",
    "Cleanliness_Rating = []\n",
    "Comfort_Rating = []\n",
    "Value_For_Money_Rating = []\n",
    "Location_Rating = []\n",
    "Free_WiFi_Rating = []\n",
    "Final_Grade = []\n",
    "\n",
    "\n",
    "\n",
    "# accessing the class that contains the list of regions - not only in israel \n",
    "# and creating a list of known cities to be extracted \n",
    "# counter will be used to save the index of the desired regions - then to specify the index withing the 'searches' list\n",
    "\n",
    "searches = soup.find(class_=\"ia_section-container clearfix wcu-seo-regions-poi\").find_all('a')\n",
    "cities = [\"אזור ירושלים\",\"אזור המרכז\",\"גליל\",\"גליל עליון\",\"כנרת\",\"אזור תל אביב\",\"דרום הארץ\",\"ים המלח\",\"נגב\",\"צפון הארץ\",\"רמת הגולן\"]\n",
    "names = []\n",
    "indexes = []\n",
    "href_list = []\n",
    "counter = 0\n",
    "# now, 'searches' is a list with all the regions,we want to loop through and extract only the ones we want\n",
    "# first, we are getting the name of each object in the list, and checking if it exists in our desired regeions list 'cities'\n",
    "# if the term is met, we are appending the corresponding index(integer) to the indexes list\n",
    "# and extracting the corresponding link with the \"href\" tag and concatanating it to the original URL\n",
    "for i in searches:\n",
    "    name1 = i.get_text().replace(\"\\n\", \"\") \n",
    "    if name1 in cities:\n",
    "        names.append(name1)\n",
    "        indexes.append(counter)\n",
    "        href = searches[counter].get(\"href\").strip() # getting the link for a specific region that matches our 'cities' list\n",
    "        URL2 = URL+href\n",
    "        soup2 = load_soup_object(URL2)\n",
    "        \n",
    "        # now that we have the full link to the specific region\n",
    "        # lets parse it so we can inspect and work with each page \n",
    "        # each region`s page has a specific \"Watch all\" link that needs to be accessed\n",
    "        # therefore, we are accessing the class that contains the only object(link) we need\n",
    "        # and concatanating the link to the original URL\n",
    "        \n",
    "        searches2 = soup2.find(class_=\"lp-bui-section bui-spacer--largest x2\").find_all(\"a\")\n",
    "        print(\"counter is : \", counter)\n",
    "        print(\"region is : \", name1)\n",
    "        nexthref = URL + searches2[0].get(\"href\").strip()\n",
    "        print(\"full name : \", searches2[0].get_text())\n",
    "        href_list.append(nexthref)\n",
    "        print(\"\\nhref is :\\n\",nexthref, \"\\n\")\n",
    "    counter+=1\n",
    "\n",
    "# now after this for loop we have a list that contains all the links to the full page of each desired region\n",
    "\n",
    "print(names)\n",
    "print(indexes)\n",
    "\n",
    "\n",
    "    \n",
    "    "
   ]
  },
  {
   "cell_type": "markdown",
   "id": "6bc5ad69",
   "metadata": {},
   "source": [
    "Now after we have a list of the correct and desired regions,  \n",
    "we are going to access each region's page and loop through all other pages  \n",
    "so we can extract the information we need regarding each item(hotel) in the page."
   ]
  },
  {
   "cell_type": "code",
   "execution_count": 3,
   "id": "eb0fbce7",
   "metadata": {},
   "outputs": [],
   "source": [
    "# in the next block we will define the function that will adjust links\n",
    "# to help us move between pages inside our website\n",
    "# url_num : is the variable responsible to indicate which page we are going to display (1st page = 25, 2nd page = 50...)\n",
    "# url_num_flag : is the variable that we will use to know how to \"cut\" the link string i.e after 3 iterations \n",
    "#                                    we will have the number 100 so we need to cut 3 digits instead of 5\n",
    "# offset_flag : is the variable that will indicate whether the 1st page`s link ends with &offset=25 OR just &\n",
    "# region counter is not critical to the code - just counting how many links starting with \"offset\"\n",
    "# using global keyword to be able to update values that exist outside of the funtion \n",
    "\n",
    "def adjust_link():\n",
    "    global link\n",
    "    global url_num\n",
    "    global offset_flag\n",
    "    global url_num_flag\n",
    "    global region_counter\n",
    "    if offset_flag == 0: # flag == 0 ---> // first page is link is : https://dfsdfs&offset=25\n",
    "            region_counter += 1\n",
    "            print(\"with offset for link is : \", link)\n",
    "            print(\"url flag is : \", url_num_flag)\n",
    "            if url_num_flag >= 39:\n",
    "                link = link[:-4]\n",
    "                link += str(url_num)\n",
    "                url_num += 25\n",
    "\n",
    "            elif url_num_flag >= 3:\n",
    "                link = link[:-3]\n",
    "                link += str(url_num)\n",
    "                url_num += 25\n",
    "\n",
    "            else:\n",
    "                link = link[:-2]\n",
    "                link += str(url_num)\n",
    "                url_num += 25\n",
    "\n",
    "    else: # flag == 1 ---> // first page is link is : https://dfsdfs&\n",
    "        region_counter -= 1\n",
    "        link += \"offset=25\"\n",
    "        offset_flag = 0\n",
    "        url_num += 25\n",
    "    url_num_flag += 1\n",
    "    return link\n",
    "        "
   ]
  },
  {
   "cell_type": "code",
   "execution_count": null,
   "id": "a969288f",
   "metadata": {},
   "outputs": [],
   "source": [
    "# now that we have all the links to all regions(north, negev etc.),\n",
    "# we need to parse each one with html.parser so we can work with it\n",
    "counter2 = 0\n",
    "region_counter = 0 # will count how many regions are starting with offset\n",
    "for link in href_list: #i.e north, south, negev\n",
    "    \n",
    "    # url_num_flag will tell us how do we need to cut the link to adjust it for next pages\n",
    "    # url_num will be the indicator for which page we want to fetch --> 1st page will be 25, 2nd will be 50....\n",
    "    url_num_flag = 0\n",
    "    url_num = 50\n",
    "    #some pages links starts with an \"offset\" after the last & in the link, and some not, we need to check this with flag\n",
    "    offset_flag = 0\n",
    "    if link[-1] == \"&\":\n",
    "        offset_flag = 1\n",
    "        url_num_flag -= 1\n",
    "        url_num -= 25\n",
    "    # PRINTING FOR CHECK print(\"prime link is : \", link)\n",
    "    city_soup = load_soup_object(link)\n",
    "    number_of_pages = int(city_soup.find(class_=\"d493c719bc\").find_all('li')[-1].get_text())\n",
    "    for i in range(number_of_pages-1):\n",
    "        # PRINTING FOR CHECK print(\"page is : \", i+1)\n",
    "        # PRINTING FOR CHECK print(\"page link is : \", link)\n",
    "        city_soup2 = load_soup_object(link)\n",
    "        \n",
    "        # find all links(names links) for all hotels in the page into a list.\n",
    "        try:\n",
    "            hotels = city_soup2.find(class_=\"d4924c9e74\").find_all('h3')\n",
    "        except:\n",
    "            adjust_link()\n",
    "            continue\n",
    "        # PRINTING FOR CHECK print(\"len hotels : \", len(hotels))\n",
    "        \n",
    "        # now we start extracting information for the dataframe. we start by taking the hotel names into the hotel name list\n",
    "        for item in hotels: # looping through the h3 class for the hotels --- item == href of single hotel\n",
    "            # PRINTING FOR CHECK print(\"current hotel is in page : \", i+1)\n",
    "            # flag will indicate if our 7 parameters exist \n",
    "            flag = 0\n",
    "            # PRINTING FOR CHECK print(\"hotel : \",item.a.find(class_=\"fcab3ed991 a23c043802\").get_text())\n",
    "            hotel_eng_name = \"\"\n",
    "            \n",
    "            #if the hotel name is in hebrew - we will now fetch the english name for it - straight from the URL\n",
    "            # because the hotel name starts after the 33rd character in the URL\n",
    "            item_for_name = item.a.get(\"href\").strip()[33:]\n",
    "            for s in item_for_name:\n",
    "                if s == \".\":\n",
    "                    break\n",
    "                hotel_eng_name += s\n",
    "            Hotel_Name.append(hotel_eng_name)\n",
    "            # PRINTING FOR CHECK print(\"hotel in english : \", hotel_eng_name)\n",
    "            # PRINTING FOR CHECK print(\"hotel link is :\",item.a.get(\"href\").strip())\n",
    "            hotel_soup = load_soup_object(item.a.get(\"href\").strip()) #loading the soup object of single hotel link\n",
    "            \n",
    "            # the grade of the hotel is in a seperate place from other parameters - lets extract the final grade.\n",
    "            try:\n",
    "                hotel_grade = hotel_soup.find('div',\n",
    "                                   attrs={\"class\" : \"a1b3f50dcd b2fe1a41c3 a1f3ecff04 db7f07f643 d19ba76520 f4e25490ec\"})\n",
    "                hotel_grade2 = hotel_grade.find(class_=\"b5cd09854e d10a6220b4\").get_text()\n",
    "            except:\n",
    "                hotel_grade2 = 0\n",
    "            Final_Grade.append(hotel_grade2)\n",
    "\n",
    "            #now lets get inside the link of the current hotel - and fetch the information for our DataFrame\n",
    "            hotel_props = hotel_soup.select(\".v2_review-scores__body.v2_review-scores__body--compared_to_average li\")\n",
    "            hotel_props2 = hotel_props[14:]\n",
    "            # PRINTING FOR CHECK print(\"hotel props len is : \", len(hotel_props2))\n",
    "            \n",
    "            # next block will check for errors in the data we want to scrape, in case of an error or missing data\n",
    "            # we will fill the values with 0.\n",
    "            # flag = 1 will indicate that our hotel has missing data.\n",
    "            if (len(hotel_props2)) < 7:\n",
    "                # PRINTING FOR CHECK print(\"problem in hotel : \", Hotel_Name[counter2])\n",
    "                # PRINTING FOR CHECK print(\"hotel props : \", hotel_props2)\n",
    "                flag = 1\n",
    "            if flag == 1:\n",
    "                Staff_Rating.append(0)\n",
    "                Facilities_Rating.append(0)\n",
    "                Cleanliness_Rating.append(0)\n",
    "                Comfort_Rating.append(0)\n",
    "                Value_For_Money_Rating.append(0)\n",
    "                Location_Rating.append(0)\n",
    "                Free_WiFi_Rating.append(0)\n",
    "            else:\n",
    "                Staff_Rating.append(hotel_props2[0].find(class_=\"c-score-bar__score\").get_text())\n",
    "                Facilities_Rating.append(hotel_props2[1].find(class_=\"c-score-bar__score\").get_text())\n",
    "                Cleanliness_Rating.append(hotel_props2[2].find(class_=\"c-score-bar__score\").get_text())\n",
    "                Comfort_Rating.append(hotel_props2[3].find(class_=\"c-score-bar__score\").get_text())\n",
    "                Value_For_Money_Rating.append(hotel_props2[4].find(class_=\"c-score-bar__score\").get_text())\n",
    "                Location_Rating.append(hotel_props2[5].find(class_=\"c-score-bar__score\").get_text())\n",
    "                Free_WiFi_Rating.append(hotel_props2[6].find(class_=\"c-score-bar__score\").get_text())\n",
    "        adjust_link()\n",
    "\n",
    "    \n",
    "dfdict = {\"Hotel_Names\":Hotel_Name,\"Staff_Rating\":Staff_Rating, \"Facilities_Rating\":Facilities_Rating, \"Cleanliness_Rating\":Cleanliness_Rating, \"Comfort_Rating\":Comfort_Rating, \"Value_For_Money_Rating\":Value_For_Money_Rating, \"Location_Rating\":Location_Rating, \"Free_WiFi_Rating\":Free_WiFi_Rating, \"Final_Grade\":Final_Grade}\n",
    "df = pd.DataFrame(data=dfdict)\n",
    "df.to_csv('./BookingHotels.csv')\n",
    "df.style\n",
    "\n",
    "\n",
    "\n",
    "\n",
    "    "
   ]
  },
  {
   "cell_type": "markdown",
   "id": "0fe0f26e",
   "metadata": {},
   "source": [
    "## This is the end of the Data Acquisition section\n",
    "#### In order to work more efficiently, we will now work on our csv that we saved to our computer."
   ]
  },
  {
   "cell_type": "markdown",
   "id": "93c56c4d",
   "metadata": {},
   "source": [
    "#### As we can see below, the DataFrame has 9 columns :\n",
    "     - one column for the name of the hotel\n",
    "     - 8 columns for different parameters which store values between 0 - 10 as 'float'"
   ]
  },
  {
   "cell_type": "code",
   "execution_count": 2,
   "id": "0a9c0247",
   "metadata": {},
   "outputs": [
    {
     "data": {
      "text/html": [
       "<div>\n",
       "<style scoped>\n",
       "    .dataframe tbody tr th:only-of-type {\n",
       "        vertical-align: middle;\n",
       "    }\n",
       "\n",
       "    .dataframe tbody tr th {\n",
       "        vertical-align: top;\n",
       "    }\n",
       "\n",
       "    .dataframe thead th {\n",
       "        text-align: right;\n",
       "    }\n",
       "</style>\n",
       "<table border=\"1\" class=\"dataframe\">\n",
       "  <thead>\n",
       "    <tr style=\"text-align: right;\">\n",
       "      <th></th>\n",
       "      <th>Hotel_Names</th>\n",
       "      <th>Staff_Rating</th>\n",
       "      <th>Facilities_Rating</th>\n",
       "      <th>Cleanliness_Rating</th>\n",
       "      <th>Comfort_Rating</th>\n",
       "      <th>Value_For_Money_Rating</th>\n",
       "      <th>Location_Rating</th>\n",
       "      <th>Free_WiFi_Rating</th>\n",
       "      <th>Final_Grade</th>\n",
       "    </tr>\n",
       "  </thead>\n",
       "  <tbody>\n",
       "    <tr>\n",
       "      <th>0</th>\n",
       "      <td>desert-view</td>\n",
       "      <td>9.4</td>\n",
       "      <td>9.0</td>\n",
       "      <td>8.9</td>\n",
       "      <td>9.2</td>\n",
       "      <td>9.0</td>\n",
       "      <td>9.1</td>\n",
       "      <td>9.2</td>\n",
       "      <td>8.9</td>\n",
       "    </tr>\n",
       "    <tr>\n",
       "      <th>1</th>\n",
       "      <td>eretz-zeelim</td>\n",
       "      <td>8.4</td>\n",
       "      <td>7.8</td>\n",
       "      <td>7.8</td>\n",
       "      <td>7.7</td>\n",
       "      <td>7.2</td>\n",
       "      <td>8.1</td>\n",
       "      <td>4.6</td>\n",
       "      <td>7.6</td>\n",
       "    </tr>\n",
       "    <tr>\n",
       "      <th>2</th>\n",
       "      <td>kibbutz-lotan-ecotourism</td>\n",
       "      <td>9.3</td>\n",
       "      <td>8.0</td>\n",
       "      <td>8.6</td>\n",
       "      <td>8.3</td>\n",
       "      <td>8.4</td>\n",
       "      <td>9.0</td>\n",
       "      <td>7.8</td>\n",
       "      <td>8.3</td>\n",
       "    </tr>\n",
       "    <tr>\n",
       "      <th>3</th>\n",
       "      <td>desert-iris</td>\n",
       "      <td>8.3</td>\n",
       "      <td>7.6</td>\n",
       "      <td>7.6</td>\n",
       "      <td>8.1</td>\n",
       "      <td>7.4</td>\n",
       "      <td>8.3</td>\n",
       "      <td>7.3</td>\n",
       "      <td>7.7</td>\n",
       "    </tr>\n",
       "    <tr>\n",
       "      <th>4</th>\n",
       "      <td>amazing-bedouin-hospitality</td>\n",
       "      <td>9.8</td>\n",
       "      <td>8.9</td>\n",
       "      <td>9.2</td>\n",
       "      <td>9.0</td>\n",
       "      <td>9.3</td>\n",
       "      <td>8.6</td>\n",
       "      <td>9.1</td>\n",
       "      <td>9.2</td>\n",
       "    </tr>\n",
       "  </tbody>\n",
       "</table>\n",
       "</div>"
      ],
      "text/plain": [
       "                   Hotel_Names  Staff_Rating  Facilities_Rating  \\\n",
       "0                  desert-view           9.4                9.0   \n",
       "1                 eretz-zeelim           8.4                7.8   \n",
       "2     kibbutz-lotan-ecotourism           9.3                8.0   \n",
       "3                  desert-iris           8.3                7.6   \n",
       "4  amazing-bedouin-hospitality           9.8                8.9   \n",
       "\n",
       "   Cleanliness_Rating  Comfort_Rating  Value_For_Money_Rating  \\\n",
       "0                 8.9             9.2                     9.0   \n",
       "1                 7.8             7.7                     7.2   \n",
       "2                 8.6             8.3                     8.4   \n",
       "3                 7.6             8.1                     7.4   \n",
       "4                 9.2             9.0                     9.3   \n",
       "\n",
       "   Location_Rating  Free_WiFi_Rating  Final_Grade  \n",
       "0              9.1               9.2          8.9  \n",
       "1              8.1               4.6          7.6  \n",
       "2              9.0               7.8          8.3  \n",
       "3              8.3               7.3          7.7  \n",
       "4              8.6               9.1          9.2  "
      ]
     },
     "execution_count": 2,
     "metadata": {},
     "output_type": "execute_result"
    }
   ],
   "source": [
    "# Lets read the csv with the help of pandas function. \n",
    "# We use the index_col=[0] to drop the column indexes brought by the CSV file and has nothing to do with\n",
    "df = pd.read_csv('./BookingHotels.csv', index_col=[0])\n",
    "df.head()"
   ]
  },
  {
   "cell_type": "markdown",
   "id": "29cce334",
   "metadata": {},
   "source": [
    "## Inspecting our DataFrame"
   ]
  },
  {
   "cell_type": "markdown",
   "id": "852708da",
   "metadata": {},
   "source": [
    "#### As we can see Below :  \n",
    "#### our complete DataFrame (after fetching data through Crawling) has 7999 rows, and 9 columns\n",
    "    - 1 column store the hotel name as type 'Object'\n",
    "    - 8 columns store values of type 'float'"
   ]
  },
  {
   "cell_type": "code",
   "execution_count": 5,
   "id": "a71c86c8",
   "metadata": {},
   "outputs": [
    {
     "name": "stdout",
     "output_type": "stream",
     "text": [
      "<class 'pandas.core.frame.DataFrame'>\n",
      "Int64Index: 8000 entries, 0 to 7999\n",
      "Data columns (total 9 columns):\n",
      " #   Column                  Non-Null Count  Dtype  \n",
      "---  ------                  --------------  -----  \n",
      " 0   Hotel_Names             8000 non-null   object \n",
      " 1   Staff_Rating            8000 non-null   float64\n",
      " 2   Facilities_Rating       8000 non-null   float64\n",
      " 3   Cleanliness_Rating      8000 non-null   float64\n",
      " 4   Comfort_Rating          8000 non-null   float64\n",
      " 5   Value_For_Money_Rating  8000 non-null   float64\n",
      " 6   Location_Rating         8000 non-null   float64\n",
      " 7   Free_WiFi_Rating        8000 non-null   float64\n",
      " 8   Final_Grade             8000 non-null   float64\n",
      "dtypes: float64(8), object(1)\n",
      "memory usage: 625.0+ KB\n"
     ]
    }
   ],
   "source": [
    "df.info()"
   ]
  },
  {
   "cell_type": "markdown",
   "id": "5868a311",
   "metadata": {},
   "source": [
    "# Data Cleaning"
   ]
  },
  {
   "cell_type": "markdown",
   "id": "16324207",
   "metadata": {},
   "source": [
    "### To clean our data we have to do  2 steps :\n",
    "### - First we will drop all the rows that has missing values indicated with a default value of 0.0 .\n",
    "### - Next, we will dtop all the dplicated rows compared to the hotel name column."
   ]
  },
  {
   "cell_type": "code",
   "execution_count": 3,
   "id": "84687025",
   "metadata": {},
   "outputs": [
    {
     "name": "stdout",
     "output_type": "stream",
     "text": [
      "<class 'pandas.core.frame.DataFrame'>\n",
      "RangeIndex: 1978 entries, 0 to 1977\n",
      "Data columns (total 9 columns):\n",
      " #   Column                  Non-Null Count  Dtype  \n",
      "---  ------                  --------------  -----  \n",
      " 0   Hotel_Names             1978 non-null   object \n",
      " 1   Staff_Rating            1978 non-null   float64\n",
      " 2   Facilities_Rating       1978 non-null   float64\n",
      " 3   Cleanliness_Rating      1978 non-null   float64\n",
      " 4   Comfort_Rating          1978 non-null   float64\n",
      " 5   Value_For_Money_Rating  1978 non-null   float64\n",
      " 6   Location_Rating         1978 non-null   float64\n",
      " 7   Free_WiFi_Rating        1978 non-null   float64\n",
      " 8   Final_Grade             1978 non-null   float64\n",
      "dtypes: float64(8), object(1)\n",
      "memory usage: 139.2+ KB\n"
     ]
    }
   ],
   "source": [
    "# in this code block we will handle our data inside our DataFrame that is incompatibe with our desired data.\n",
    "# first we will remove all missing data indicated by values of 0.0\n",
    "# after that we will drop dupliacted rows and we can simply check that by checking if the Hotel Name appear more than once\n",
    "# after that we will reset the indexes \n",
    "df2 = df[df.Comfort_Rating != 0.0]\n",
    "df2 = df2.drop_duplicates(subset=['Hotel_Names'])\n",
    "df2.reset_index(drop=True, inplace=True)\n",
    "df2.info()\n"
   ]
  },
  {
   "cell_type": "markdown",
   "id": "3e551a2d",
   "metadata": {},
   "source": [
    "# Data Visualizations"
   ]
  },
  {
   "cell_type": "markdown",
   "id": "9050ba3b",
   "metadata": {},
   "source": [
    "#### For our visualizations we will focus on showing the relations between our parameters.\n",
    "#### Specifically each parameter will be compared to the final grade:\n",
    "        - for example the first graph (first row first column) shows the relation\n",
    "          between the Staff_Rating and the Final_Grade.\n",
    "          \n",
    "As we can see below, all the relations are linear.  \n",
    "For example we can see that for the first graph the final grade gets higher as the staff rating gets higher."
   ]
  },
  {
   "cell_type": "code",
   "execution_count": 9,
   "id": "72a9d2d3",
   "metadata": {},
   "outputs": [
    {
     "data": {
      "image/png": "[encoded data removed]",
      "text/plain": [
       "<Figure size 720x720 with 6 Axes>"
      ]
     },
     "metadata": {
      "needs_background": "light"
     },
     "output_type": "display_data"
    }
   ],
   "source": [
    "for i in range(1,7):\n",
    "    firstcol = df.columns[i] # Location_Rating\n",
    "    plt.subplot(2, 3, i)\n",
    "    plt.gcf().set_size_inches((10, 10)) \n",
    "    plt.scatter(df2[firstcol], df2.Final_Grade)\n",
    "    plt.ylabel(df2.columns[i],fontsize = 8)\n",
    "    plt.xlabel('Final_Grade',fontsize = 8)\n",
    "    \n",
    "    \n",
    "plt.tight_layout()"
   ]
  },
  {
   "cell_type": "markdown",
   "id": "0dd22b64",
   "metadata": {},
   "source": [
    "### Lets change \"Free_WiFi_Rating\" column values to 0 or 1"
   ]
  },
  {
   "cell_type": "code",
   "execution_count": 53,
   "id": "afbc2a6c",
   "metadata": {},
   "outputs": [],
   "source": [
    "# this function will serve us for replacing values in the column \"Free_WiFi_Rating\"\n",
    "# first we will get the median value of the column and call this variable m\n",
    "# we will replace all values that are greater than m to 1\n",
    "# we will replace all values that are lower than m to 0\n",
    "def value_to_binary(x):\n",
    "    global m\n",
    "    if x > m:\n",
    "        return int(1)\n",
    "    else:\n",
    "        return int(0)\n",
    "    \n"
   ]
  },
  {
   "cell_type": "code",
   "execution_count": 73,
   "id": "e309aced",
   "metadata": {},
   "outputs": [
    {
     "data": {
      "text/html": [
       "<div>\n",
       "<style scoped>\n",
       "    .dataframe tbody tr th:only-of-type {\n",
       "        vertical-align: middle;\n",
       "    }\n",
       "\n",
       "    .dataframe tbody tr th {\n",
       "        vertical-align: top;\n",
       "    }\n",
       "\n",
       "    .dataframe thead th {\n",
       "        text-align: right;\n",
       "    }\n",
       "</style>\n",
       "<table border=\"1\" class=\"dataframe\">\n",
       "  <thead>\n",
       "    <tr style=\"text-align: right;\">\n",
       "      <th></th>\n",
       "      <th>Hotel_Names</th>\n",
       "      <th>Staff_Rating</th>\n",
       "      <th>Facilities_Rating</th>\n",
       "      <th>Cleanliness_Rating</th>\n",
       "      <th>Comfort_Rating</th>\n",
       "      <th>Value_For_Money_Rating</th>\n",
       "      <th>Location_Rating</th>\n",
       "      <th>Free_WiFi_Rating</th>\n",
       "      <th>Final_Grade</th>\n",
       "    </tr>\n",
       "  </thead>\n",
       "  <tbody>\n",
       "    <tr>\n",
       "      <th>0</th>\n",
       "      <td>desert-view</td>\n",
       "      <td>9.4</td>\n",
       "      <td>9.0</td>\n",
       "      <td>8.9</td>\n",
       "      <td>9.2</td>\n",
       "      <td>9.0</td>\n",
       "      <td>9.1</td>\n",
       "      <td>1</td>\n",
       "      <td>8.9</td>\n",
       "    </tr>\n",
       "    <tr>\n",
       "      <th>1</th>\n",
       "      <td>eretz-zeelim</td>\n",
       "      <td>8.4</td>\n",
       "      <td>7.8</td>\n",
       "      <td>7.8</td>\n",
       "      <td>7.7</td>\n",
       "      <td>7.2</td>\n",
       "      <td>8.1</td>\n",
       "      <td>0</td>\n",
       "      <td>7.6</td>\n",
       "    </tr>\n",
       "    <tr>\n",
       "      <th>2</th>\n",
       "      <td>kibbutz-lotan-ecotourism</td>\n",
       "      <td>9.3</td>\n",
       "      <td>8.0</td>\n",
       "      <td>8.6</td>\n",
       "      <td>8.3</td>\n",
       "      <td>8.4</td>\n",
       "      <td>9.0</td>\n",
       "      <td>0</td>\n",
       "      <td>8.3</td>\n",
       "    </tr>\n",
       "    <tr>\n",
       "      <th>3</th>\n",
       "      <td>desert-iris</td>\n",
       "      <td>8.3</td>\n",
       "      <td>7.6</td>\n",
       "      <td>7.6</td>\n",
       "      <td>8.1</td>\n",
       "      <td>7.4</td>\n",
       "      <td>8.3</td>\n",
       "      <td>0</td>\n",
       "      <td>7.7</td>\n",
       "    </tr>\n",
       "    <tr>\n",
       "      <th>4</th>\n",
       "      <td>amazing-bedouin-hospitality</td>\n",
       "      <td>9.8</td>\n",
       "      <td>8.9</td>\n",
       "      <td>9.2</td>\n",
       "      <td>9.0</td>\n",
       "      <td>9.3</td>\n",
       "      <td>8.6</td>\n",
       "      <td>1</td>\n",
       "      <td>9.2</td>\n",
       "    </tr>\n",
       "  </tbody>\n",
       "</table>\n",
       "</div>"
      ],
      "text/plain": [
       "                   Hotel_Names  Staff_Rating  Facilities_Rating  \\\n",
       "0                  desert-view           9.4                9.0   \n",
       "1                 eretz-zeelim           8.4                7.8   \n",
       "2     kibbutz-lotan-ecotourism           9.3                8.0   \n",
       "3                  desert-iris           8.3                7.6   \n",
       "4  amazing-bedouin-hospitality           9.8                8.9   \n",
       "\n",
       "   Cleanliness_Rating  Comfort_Rating  Value_For_Money_Rating  \\\n",
       "0                 8.9             9.2                     9.0   \n",
       "1                 7.8             7.7                     7.2   \n",
       "2                 8.6             8.3                     8.4   \n",
       "3                 7.6             8.1                     7.4   \n",
       "4                 9.2             9.0                     9.3   \n",
       "\n",
       "   Location_Rating  Free_WiFi_Rating  Final_Grade  \n",
       "0              9.1                 1          8.9  \n",
       "1              8.1                 0          7.6  \n",
       "2              9.0                 0          8.3  \n",
       "3              8.3                 0          7.7  \n",
       "4              8.6                 1          9.2  "
      ]
     },
     "execution_count": 73,
     "metadata": {},
     "output_type": "execute_result"
    }
   ],
   "source": [
    "# assigning the value m with the median value of the column \"Free_WiFi_Rating\"\n",
    "# using apply function to update our column values to 0 or 1 \n",
    "m = df2['Free_WiFi_Rating'].mean()\n",
    "df2[\"Free_WiFi_Rating\"] = df2[\"Free_WiFi_Rating\"].apply(value_to_binary)\n",
    "df2.head()"
   ]
  },
  {
   "cell_type": "markdown",
   "id": "44557dda",
   "metadata": {},
   "source": [
    "### As we can see below, after the update of the \"Free_WiFi_Rating\" column :\n",
    "      - we have 1155 hotels that their Free_WiFi_Rating is above avrage\n",
    "        and 823 hotels that their Free_WiFi_Rating is below avrage "
   ]
  },
  {
   "cell_type": "code",
   "execution_count": 74,
   "id": "1ab26388",
   "metadata": {},
   "outputs": [
    {
     "data": {
      "text/plain": [
       "1    1155\n",
       "0     823\n",
       "Name: Free_WiFi_Rating, dtype: int64"
      ]
     },
     "execution_count": 74,
     "metadata": {},
     "output_type": "execute_result"
    }
   ],
   "source": [
    "df2[\"Free_WiFi_Rating\"].value_counts()"
   ]
  },
  {
   "cell_type": "markdown",
   "id": "1e6bcc85",
   "metadata": {},
   "source": [
    "### The next pie chart shows us that most hotels have Free_WiFi_Rating above avrage"
   ]
  },
  {
   "cell_type": "code",
   "execution_count": 71,
   "id": "76a4f8fe",
   "metadata": {},
   "outputs": [
    {
     "data": {
      "text/plain": [
       "<AxesSubplot:ylabel='Free_WiFi_Rating'>"
      ]
     },
     "execution_count": 71,
     "metadata": {},
     "output_type": "execute_result"
    },
    {
     "data": {
      "image/png": "[encoded data removed]",
      "text/plain": [
       "<Figure size 432x288 with 1 Axes>"
      ]
     },
     "metadata": {},
     "output_type": "display_data"
    }
   ],
   "source": [
    "df2[\"Free_WiFi_Rating\"].value_counts().plot(kind='pie')"
   ]
  },
  {
   "cell_type": "markdown",
   "id": "6ba0efc1",
   "metadata": {},
   "source": [
    "# Machine Learning "
   ]
  },
  {
   "cell_type": "markdown",
   "id": "20a87ddb",
   "metadata": {},
   "source": [
    "### In the next section we will be using Machine Learning algorithm \n",
    "### to check how precise we can predict the Final Grade of hotel fiven known parameters.\n",
    "First, we only need the columns that are numeric, which means we don't need the \"Hotel_Names\" column.  "
   ]
  },
  {
   "cell_type": "code",
   "execution_count": 4,
   "id": "068579bd",
   "metadata": {},
   "outputs": [],
   "source": [
    "df_copy_learn=df2[[\"Staff_Rating\",\"Facilities_Rating\",\"Cleanliness_Rating\"\n",
    "                   ,\"Comfort_Rating\",\"Value_For_Money_Rating\",\"Location_Rating\",\"Free_WiFi_Rating\",\"Final_Grade\"]].copy()"
   ]
  },
  {
   "cell_type": "markdown",
   "id": "e180b8ae",
   "metadata": {},
   "source": [
    "### Linear Regression"
   ]
  },
  {
   "cell_type": "markdown",
   "id": "e52d2690",
   "metadata": {},
   "source": [
    "Our target column that we want to be able to predict is the column \"Final_Grade\".  \n",
    "We want to predict the exact value/Final Grade of the hotel, hence we will be using Linear Regression  \n",
    "which is a Supervised Learning type of Machine Learning\n",
    "\n"
   ]
  },
  {
   "cell_type": "code",
   "execution_count": 8,
   "id": "e9be9d0a",
   "metadata": {},
   "outputs": [
    {
     "name": "stdout",
     "output_type": "stream",
     "text": [
      "(1483, 7) (1483,)\n",
      "(495, 7) (495,)\n"
     ]
    }
   ],
   "source": [
    "# For that Kind of Machine Learning Algorithm we need to exclude the column that we wish to predict values for.\n",
    "# In our case it is the \"Final_Grade\" column.\n",
    "TRAINING_FEATURES = df_copy_learn.columns[df_copy_learn.columns != 'Final_Grade']\n",
    "TARGET_FEATURE = 'Final_Grade'\n",
    "\n",
    "x = df_copy_learn[TRAINING_FEATURES] #matrix X of all the features (Staff_Rating,Facilities_Rating.....)\n",
    "y = df_copy_learn[TARGET_FEATURE] # vector y (label) shows only Final_Grade (Our prediction)\n",
    "\n",
    "# The train test method is used to split our data in such way that most values are used to train the model\n",
    "# and saves a small portion of the data to test what the model \"learned\"\n",
    "# we will be using 75% of the data to train the model, and the test size will be 25% of the data.\n",
    "x_train, x_test, y_train, y_test = train_test_split(x, y, test_size = 0.25)\n",
    "print(x_train.shape, y_train.shape)\n",
    "print(x_test.shape, y_test.shape)"
   ]
  },
  {
   "cell_type": "markdown",
   "id": "2288749a",
   "metadata": {},
   "source": [
    "### Now lets train our model with the data that we split"
   ]
  },
  {
   "cell_type": "code",
   "execution_count": 9,
   "id": "d80837c8",
   "metadata": {},
   "outputs": [],
   "source": [
    "lrm = linear_model.LinearRegression()\n",
    "lrm_model = lrm.fit(x_train, y_train)\n",
    "lrm_predictions = lrm.predict(x_test)"
   ]
  },
  {
   "cell_type": "markdown",
   "id": "ff47319f",
   "metadata": {},
   "source": [
    "### Now lets display the predictions used on the 75% data used to test our model."
   ]
  },
  {
   "cell_type": "code",
   "execution_count": 91,
   "id": "cea7d252",
   "metadata": {},
   "outputs": [
    {
     "data": {
      "text/plain": [
       "array([ 9.42569984,  9.54247719,  8.85927525,  5.60150014,  9.04709077,\n",
       "        8.90274264,  9.7277718 ,  8.09936014,  7.08955236,  9.57555291,\n",
       "        8.26718818,  8.37676496,  8.32124935,  9.12404148,  8.06080603,\n",
       "        8.3727215 ,  9.30810859,  8.63444328,  9.29205006,  8.06010957,\n",
       "        9.05953764,  9.65916553,  9.71922351,  8.8035707 ,  8.97785213,\n",
       "        8.18776097,  8.79218478,  7.90223778,  9.29927898,  9.04745592,\n",
       "        9.65428519,  8.39585572,  9.47960182,  8.82386344,  7.29316636,\n",
       "        8.32102099,  7.30065883,  8.53569929,  8.60555298,  8.31357334,\n",
       "        8.42959702,  8.94330407,  7.31254067,  9.06011565,  7.62563523,\n",
       "        7.32485291,  6.81605972,  9.7973128 ,  7.59106702,  8.87938824,\n",
       "        8.52961241,  9.85842793,  8.43538116,  9.20351903,  9.25904272,\n",
       "        8.67607489,  7.47466655,  9.36408417,  6.63494912,  8.68653173,\n",
       "        7.62411312,  9.30070681,  9.68681824,  6.67707382,  7.90107195,\n",
       "        8.27953244,  9.52574515,  8.50055568,  8.00598644,  8.6168914 ,\n",
       "        9.544889  ,  8.1258277 ,  8.9677792 ,  9.16656977,  9.12571992,\n",
       "        9.17945366,  8.88447327,  8.6397121 ,  8.46782935,  9.41979889,\n",
       "        9.53687246,  9.61897411,  9.68398412,  9.67549101,  6.43735818,\n",
       "        8.93780739,  9.34689593,  9.28953942,  7.57852171,  8.93273824,\n",
       "        7.0111547 ,  8.82125821,  7.52919175,  9.59791929,  9.90148056,\n",
       "        8.19301296, 10.00182007,  9.1682771 ,  8.81702646,  7.80407153,\n",
       "        9.60981743,  8.84503668,  7.49643617,  7.38796353,  7.13656153,\n",
       "        8.92057974,  8.93608023,  8.57172197,  6.79258671,  8.05886812,\n",
       "        8.42665828,  9.78049669,  9.04697131,  8.79212863,  9.31797032,\n",
       "        7.92509302,  7.28712317,  8.28425897,  9.13052199,  7.08419116,\n",
       "        7.80673849,  9.62192716,  6.94476696,  9.49456068,  8.78798405,\n",
       "        9.77590451,  9.60328056,  9.0982892 ,  8.62103695,  7.54027182,\n",
       "        8.62709366,  7.40117332,  8.39662506,  8.19982372,  9.81031911,\n",
       "        8.99954569,  7.55797377,  9.06444929,  7.75934622,  8.43465852,\n",
       "        9.40319931,  7.78273947,  8.3425424 ,  8.05222188,  8.59453068,\n",
       "        9.48539732,  9.56700665,  9.83850844,  7.99401996,  9.377697  ,\n",
       "        7.9974483 ,  7.01756436,  8.36594989,  8.32141147,  8.03234611,\n",
       "        9.16701082,  9.36806722,  7.33442454,  9.93910787,  8.06443266,\n",
       "        8.7440671 ,  8.12934424,  7.86858002,  9.07223688,  8.38228728,\n",
       "        8.72271628,  8.82015537,  8.48427621,  8.5645888 ,  8.45070108,\n",
       "        7.64488685,  8.67461297,  9.44472658,  8.93989124,  9.18915469,\n",
       "        7.91406559,  8.98851228,  8.6376282 ,  8.26867385,  8.53060879,\n",
       "        7.45763837,  7.96572519,  7.55692727,  8.29195438,  7.47622269,\n",
       "        8.5169334 ,  8.27023568,  7.80246918,  9.3261644 ,  9.88871528,\n",
       "        9.31691113,  9.17227464,  7.54929036,  7.73094832,  7.70459234,\n",
       "        8.5741717 ,  8.53391443,  8.40171062,  9.18071739,  9.82447616,\n",
       "        9.04090355,  9.95895951,  8.50880878,  9.03063465,  8.640332  ,\n",
       "        8.91383817,  8.72308511,  8.425482  ,  9.82795712,  9.016062  ,\n",
       "        7.9229781 ,  8.53828587,  8.74069591,  7.54875861,  8.57313599,\n",
       "        9.12945161,  8.74027693,  9.24831651,  9.40657409,  8.45091944,\n",
       "        7.59171273,  9.80584787,  9.79797816,  9.38634164,  7.95734456,\n",
       "        9.36820338,  8.5002933 ,  8.48458851,  8.38573906,  6.21513755,\n",
       "        7.90342182,  7.85655083,  8.11132127,  6.5514711 ,  7.66228847,\n",
       "        8.65941689,  5.30732599,  8.67023632,  9.07069213,  9.59181053,\n",
       "        9.31565734,  9.55051963,  9.02986588,  8.23726705,  9.31823986,\n",
       "        7.7458772 ,  8.43218728,  7.35158006,  7.59504743,  8.12513715,\n",
       "        9.38134997,  8.05922987,  9.59021094,  8.92090776,  9.46520065,\n",
       "        9.3489559 ,  4.76964294,  9.71205913,  8.0400164 ,  9.88215076,\n",
       "        8.46642208,  9.7581987 ,  9.0471855 ,  6.64344554,  9.22085568,\n",
       "        8.99175588,  8.08297039,  9.75287906,  8.55334863,  9.13085329,\n",
       "        6.83171956,  9.52678561,  7.65827139,  8.14639793,  9.61413728,\n",
       "        9.69828196,  8.6622838 ,  9.83705823,  8.1454941 ,  7.38671905,\n",
       "        9.04845074,  9.45309724,  7.97972296,  8.5644026 ,  7.05403613,\n",
       "        8.61296282,  8.66013204,  8.17948639,  9.56410474,  6.38387721,\n",
       "        8.91505333,  9.6605339 ,  7.43403088,  8.22495232,  8.12012906,\n",
       "        8.41431962,  9.31691697,  9.74368159,  8.73322718,  7.90096474,\n",
       "        8.93864551,  9.64080958,  6.51422225,  6.52199193,  8.88376136,\n",
       "        8.42175405,  8.71226703,  8.08242947,  9.18601999,  7.32275572,\n",
       "        7.37129129,  7.03552639,  8.85867266,  9.09606973,  9.6257567 ,\n",
       "        9.66300165,  9.88848789,  7.21961472,  8.04193791,  9.70096027,\n",
       "        9.24093164,  9.10279558,  8.30718156,  9.37506262,  9.41409396,\n",
       "        6.47061082,  9.34029707,  9.57396425,  8.83150042,  8.1091384 ,\n",
       "        7.70351943,  8.75165378,  7.5761039 ,  9.06771273,  9.42092951,\n",
       "        9.04437227,  6.71637777,  8.36055786,  9.18792828,  8.02119988,\n",
       "        9.32040093,  9.29066803,  6.8382718 ,  7.78790856,  9.40900755,\n",
       "        9.06858923,  9.14683023,  9.6566495 ,  9.02018504,  8.26434683,\n",
       "        9.32781104,  9.11988662,  8.00042659,  9.63835124,  9.74518847,\n",
       "        7.91584376,  9.30861105,  7.34262403,  9.71937289,  9.7460528 ,\n",
       "        8.95293237,  9.19461811,  8.53331975,  7.00184095,  5.99345055,\n",
       "        9.14461068,  8.9545734 ,  8.143154  ,  8.61425754,  9.30657551,\n",
       "        7.84756761,  8.58987747,  7.09717908,  9.1551829 ,  8.60575929,\n",
       "        8.90255278,  9.35985353,  6.24235956,  6.72280462,  6.98733328,\n",
       "        7.97083312,  8.77193575,  6.05829584, 10.00182007,  7.77400425,\n",
       "        8.61281215,  9.09939766,  8.64179488,  9.15783585,  8.85631185,\n",
       "        6.76242734,  9.00698249,  9.58054556,  8.21540608,  9.14187688,\n",
       "        9.5778664 ,  7.13351713,  6.54197943,  8.37935842,  7.20446708,\n",
       "        7.21187701,  9.17662038,  7.34970604,  8.69747993,  9.13999864,\n",
       "        8.86701992,  8.25654655,  9.10108448,  9.63170945,  7.74960485,\n",
       "        8.43871145,  9.92365129,  8.9897947 ,  8.37605919,  6.28206259,\n",
       "        9.50813461,  9.18714854,  8.07045188,  8.2690882 ,  9.70247273,\n",
       "        6.93604898,  8.49861896,  9.07715358,  9.37449758,  8.37860586,\n",
       "        9.24842529,  9.73739274,  7.08753334,  9.06174911,  9.47081704,\n",
       "        9.84388546,  7.6895733 ,  8.96380968,  8.59659265,  7.35070584,\n",
       "        6.8501962 ,  8.24881004,  9.01034353,  8.87462272,  7.85292247,\n",
       "        9.41888256,  8.09279242,  7.37443009,  9.10452498,  9.81865321,\n",
       "        8.49697664,  7.53819813,  6.78645779,  8.88722704,  8.67805084,\n",
       "        7.58110241,  9.0114454 ,  7.83314609,  9.60231434,  7.86386539,\n",
       "        8.95990604,  8.63190442,  7.03612879,  9.93910787,  7.67722494,\n",
       "        9.50587373,  9.06302646,  8.41235517,  9.88108494,  8.01679451,\n",
       "        9.59968655,  8.00439419,  6.88375218,  8.5301731 ,  9.0831911 ,\n",
       "        6.75340354,  5.89400048,  9.05468579,  9.23284555,  7.02545658,\n",
       "        9.4089496 ,  8.11931532,  8.60752407,  6.07326641,  9.41531189,\n",
       "        9.0780809 ,  9.23490518,  8.89401283,  7.99892187,  8.70724518,\n",
       "        9.26053326,  9.10285427,  8.23352962,  9.92196355,  9.61659918,\n",
       "        9.80427619,  9.2778852 ,  8.61907256,  4.09173106,  7.26389346])"
      ]
     },
     "execution_count": 91,
     "metadata": {},
     "output_type": "execute_result"
    }
   ],
   "source": [
    "lrm_predictions"
   ]
  },
  {
   "cell_type": "markdown",
   "id": "4b50660a",
   "metadata": {},
   "source": [
    "# How percise are the predictions ?"
   ]
  },
  {
   "cell_type": "markdown",
   "id": "43210d3a",
   "metadata": {},
   "source": [
    "As we can see below that the precision has a score of 0.96 approximately, out of 1 "
   ]
  },
  {
   "cell_type": "code",
   "execution_count": 85,
   "id": "1ffd5f9d",
   "metadata": {},
   "outputs": [
    {
     "name": "stdout",
     "output_type": "stream",
     "text": [
      "Score:  0.9687310425996749\n"
     ]
    }
   ],
   "source": [
    "print(\"Score: \", lrm_model.score(x_test, y_test))"
   ]
  },
  {
   "cell_type": "markdown",
   "id": "32c6d653",
   "metadata": {},
   "source": [
    "### Now that we have our predictions we can display them next to the regular Final Grade\n",
    "We will build a new DataFrame consists of the the \"x_test\" original data and a new column for the preditctions"
   ]
  },
  {
   "cell_type": "code",
   "execution_count": 11,
   "id": "5a765c97",
   "metadata": {},
   "outputs": [
    {
     "data": {
      "text/html": [
       "<div>\n",
       "<style scoped>\n",
       "    .dataframe tbody tr th:only-of-type {\n",
       "        vertical-align: middle;\n",
       "    }\n",
       "\n",
       "    .dataframe tbody tr th {\n",
       "        vertical-align: top;\n",
       "    }\n",
       "\n",
       "    .dataframe thead th {\n",
       "        text-align: right;\n",
       "    }\n",
       "</style>\n",
       "<table border=\"1\" class=\"dataframe\">\n",
       "  <thead>\n",
       "    <tr style=\"text-align: right;\">\n",
       "      <th></th>\n",
       "      <th>index</th>\n",
       "      <th>Staff_Rating</th>\n",
       "      <th>Facilities_Rating</th>\n",
       "      <th>Cleanliness_Rating</th>\n",
       "      <th>Comfort_Rating</th>\n",
       "      <th>Value_For_Money_Rating</th>\n",
       "      <th>Location_Rating</th>\n",
       "      <th>Free_WiFi_Rating</th>\n",
       "      <th>Actual_Grade</th>\n",
       "      <th>Predicted_Grade</th>\n",
       "    </tr>\n",
       "  </thead>\n",
       "  <tbody>\n",
       "    <tr>\n",
       "      <th>0</th>\n",
       "      <td>1579</td>\n",
       "      <td>6.9</td>\n",
       "      <td>6.9</td>\n",
       "      <td>6.7</td>\n",
       "      <td>7.0</td>\n",
       "      <td>7.2</td>\n",
       "      <td>8.8</td>\n",
       "      <td>7.0</td>\n",
       "      <td>6.4</td>\n",
       "      <td>6.775686</td>\n",
       "    </tr>\n",
       "    <tr>\n",
       "      <th>1</th>\n",
       "      <td>95</td>\n",
       "      <td>8.5</td>\n",
       "      <td>8.7</td>\n",
       "      <td>8.8</td>\n",
       "      <td>8.6</td>\n",
       "      <td>8.2</td>\n",
       "      <td>7.1</td>\n",
       "      <td>6.2</td>\n",
       "      <td>8.1</td>\n",
       "      <td>8.129081</td>\n",
       "    </tr>\n",
       "    <tr>\n",
       "      <th>2</th>\n",
       "      <td>880</td>\n",
       "      <td>8.5</td>\n",
       "      <td>7.3</td>\n",
       "      <td>7.8</td>\n",
       "      <td>7.7</td>\n",
       "      <td>7.6</td>\n",
       "      <td>9.2</td>\n",
       "      <td>8.3</td>\n",
       "      <td>7.7</td>\n",
       "      <td>7.683150</td>\n",
       "    </tr>\n",
       "    <tr>\n",
       "      <th>3</th>\n",
       "      <td>1090</td>\n",
       "      <td>7.1</td>\n",
       "      <td>6.2</td>\n",
       "      <td>5.9</td>\n",
       "      <td>6.4</td>\n",
       "      <td>5.9</td>\n",
       "      <td>7.7</td>\n",
       "      <td>6.1</td>\n",
       "      <td>6.2</td>\n",
       "      <td>6.049550</td>\n",
       "    </tr>\n",
       "    <tr>\n",
       "      <th>4</th>\n",
       "      <td>1407</td>\n",
       "      <td>9.5</td>\n",
       "      <td>8.8</td>\n",
       "      <td>9.2</td>\n",
       "      <td>9.2</td>\n",
       "      <td>8.6</td>\n",
       "      <td>9.5</td>\n",
       "      <td>8.8</td>\n",
       "      <td>8.9</td>\n",
       "      <td>9.002681</td>\n",
       "    </tr>\n",
       "    <tr>\n",
       "      <th>...</th>\n",
       "      <td>...</td>\n",
       "      <td>...</td>\n",
       "      <td>...</td>\n",
       "      <td>...</td>\n",
       "      <td>...</td>\n",
       "      <td>...</td>\n",
       "      <td>...</td>\n",
       "      <td>...</td>\n",
       "      <td>...</td>\n",
       "      <td>...</td>\n",
       "    </tr>\n",
       "    <tr>\n",
       "      <th>490</th>\n",
       "      <td>105</td>\n",
       "      <td>9.8</td>\n",
       "      <td>9.3</td>\n",
       "      <td>9.4</td>\n",
       "      <td>9.4</td>\n",
       "      <td>9.3</td>\n",
       "      <td>9.2</td>\n",
       "      <td>10.0</td>\n",
       "      <td>9.4</td>\n",
       "      <td>9.355202</td>\n",
       "    </tr>\n",
       "    <tr>\n",
       "      <th>491</th>\n",
       "      <td>1037</td>\n",
       "      <td>8.8</td>\n",
       "      <td>7.1</td>\n",
       "      <td>8.9</td>\n",
       "      <td>8.2</td>\n",
       "      <td>6.8</td>\n",
       "      <td>9.3</td>\n",
       "      <td>7.5</td>\n",
       "      <td>7.9</td>\n",
       "      <td>7.813783</td>\n",
       "    </tr>\n",
       "    <tr>\n",
       "      <th>492</th>\n",
       "      <td>1238</td>\n",
       "      <td>9.3</td>\n",
       "      <td>8.6</td>\n",
       "      <td>9.0</td>\n",
       "      <td>9.0</td>\n",
       "      <td>8.5</td>\n",
       "      <td>9.0</td>\n",
       "      <td>8.9</td>\n",
       "      <td>8.9</td>\n",
       "      <td>8.750924</td>\n",
       "    </tr>\n",
       "    <tr>\n",
       "      <th>493</th>\n",
       "      <td>1546</td>\n",
       "      <td>9.3</td>\n",
       "      <td>8.5</td>\n",
       "      <td>9.1</td>\n",
       "      <td>8.8</td>\n",
       "      <td>8.4</td>\n",
       "      <td>9.2</td>\n",
       "      <td>8.3</td>\n",
       "      <td>8.7</td>\n",
       "      <td>8.701712</td>\n",
       "    </tr>\n",
       "    <tr>\n",
       "      <th>494</th>\n",
       "      <td>1908</td>\n",
       "      <td>9.9</td>\n",
       "      <td>9.6</td>\n",
       "      <td>9.7</td>\n",
       "      <td>9.5</td>\n",
       "      <td>9.3</td>\n",
       "      <td>9.8</td>\n",
       "      <td>7.5</td>\n",
       "      <td>9.7</td>\n",
       "      <td>9.572700</td>\n",
       "    </tr>\n",
       "  </tbody>\n",
       "</table>\n",
       "<p>495 rows × 10 columns</p>\n",
       "</div>"
      ],
      "text/plain": [
       "     index  Staff_Rating  Facilities_Rating  Cleanliness_Rating  \\\n",
       "0     1579           6.9                6.9                 6.7   \n",
       "1       95           8.5                8.7                 8.8   \n",
       "2      880           8.5                7.3                 7.8   \n",
       "3     1090           7.1                6.2                 5.9   \n",
       "4     1407           9.5                8.8                 9.2   \n",
       "..     ...           ...                ...                 ...   \n",
       "490    105           9.8                9.3                 9.4   \n",
       "491   1037           8.8                7.1                 8.9   \n",
       "492   1238           9.3                8.6                 9.0   \n",
       "493   1546           9.3                8.5                 9.1   \n",
       "494   1908           9.9                9.6                 9.7   \n",
       "\n",
       "     Comfort_Rating  Value_For_Money_Rating  Location_Rating  \\\n",
       "0               7.0                     7.2              8.8   \n",
       "1               8.6                     8.2              7.1   \n",
       "2               7.7                     7.6              9.2   \n",
       "3               6.4                     5.9              7.7   \n",
       "4               9.2                     8.6              9.5   \n",
       "..              ...                     ...              ...   \n",
       "490             9.4                     9.3              9.2   \n",
       "491             8.2                     6.8              9.3   \n",
       "492             9.0                     8.5              9.0   \n",
       "493             8.8                     8.4              9.2   \n",
       "494             9.5                     9.3              9.8   \n",
       "\n",
       "     Free_WiFi_Rating  Actual_Grade  Predicted_Grade  \n",
       "0                 7.0           6.4         6.775686  \n",
       "1                 6.2           8.1         8.129081  \n",
       "2                 8.3           7.7         7.683150  \n",
       "3                 6.1           6.2         6.049550  \n",
       "4                 8.8           8.9         9.002681  \n",
       "..                ...           ...              ...  \n",
       "490              10.0           9.4         9.355202  \n",
       "491               7.5           7.9         7.813783  \n",
       "492               8.9           8.9         8.750924  \n",
       "493               8.3           8.7         8.701712  \n",
       "494               7.5           9.7         9.572700  \n",
       "\n",
       "[495 rows x 10 columns]"
      ]
     },
     "execution_count": 11,
     "metadata": {},
     "output_type": "execute_result"
    }
   ],
   "source": [
    "Preditions_VS_Actual = pd.DataFrame(x_test)\n",
    "Preditions_VS_Actual['Actual_Grade'] = y_test\n",
    "Preditions_VS_Actual['Predicted_Grade'] = lrm_predictions\n",
    "Preditions_VS_Actual = Preditions_VS_Actual.reset_index()\n",
    "Preditions_VS_Actual"
   ]
  },
  {
   "cell_type": "code",
   "execution_count": null,
   "id": "df9c9cd1",
   "metadata": {},
   "outputs": [],
   "source": []
  },
  {
   "cell_type": "code",
   "execution_count": null,
   "id": "e84716e2",
   "metadata": {},
   "outputs": [],
   "source": []
  }
 ],
 "metadata": {
  "kernelspec": {
   "display_name": "Python 3 (ipykernel)",
   "language": "python",
   "name": "python3"
  },
  "language_info": {
   "codemirror_mode": {
    "name": "ipython",
    "version": 3
   },
   "file_extension": ".py",
   "mimetype": "text/x-python",
   "name": "python",
   "nbconvert_exporter": "python",
   "pygments_lexer": "ipython3",
   "version": "3.9.7"
  }
 },
 "nbformat": 4,
 "nbformat_minor": 5
}
