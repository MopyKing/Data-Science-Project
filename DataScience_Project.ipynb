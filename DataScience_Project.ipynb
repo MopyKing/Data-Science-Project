{
 "cells": [
  {
   "cell_type": "markdown",
   "id": "bc8a4147",
   "metadata": {},
   "source": [
    "# Hotel Rating Prediction\n",
    "In this project we will inspect the question   \n",
    "whether we can or can not predict the overall rating on a given hotel  \n",
    "according to different parameters which we already know (such as food rating, location rating etc.)"
   ]
  },
  {
   "cell_type": "markdown",
   "id": "56c1b7b7",
   "metadata": {},
   "source": [
    "## Importing Dependencies"
   ]
  },
  {
   "cell_type": "markdown",
   "id": "f3574a06",
   "metadata": {},
   "source": [
    "the next block will be responsible for installing and importing\n",
    "the necessary libraries and functions."
   ]
  },
  {
   "cell_type": "code",
   "execution_count": 5,
   "id": "86a161df",
   "metadata": {},
   "outputs": [],
   "source": [
    "# First lets import the libraries we need :\n",
    "import requests\n",
    "import pandas as pd\n",
    "import numpy as np\n",
    "import scipy as sc\n",
    "from bs4 import BeautifulSoup\n",
    "import time\n",
    "import os\n",
    "import datetime\n",
    "import matplotlib.pyplot as plt\n",
    "import matplotlib as mpl\n",
    "from matplotlib import colors\n",
    "from matplotlib.ticker import PercentFormatter\n",
    "from collections import Counter\n",
    "import seaborn as sns\n",
    "import sklearn\n",
    "from sklearn.preprocessing import StandardScaler, MinMaxScaler\n",
    "from selenium import webdriver\n",
    "from selenium.webdriver.chrome.service import Service\n",
    "from selenium.webdriver.common.keys import Keys\n",
    "from selenium.webdriver.common.by import By\n",
    "from selenium.webdriver.support.ui import WebDriverWait\n",
    "from selenium.webdriver.support import expected_conditions as EC\n",
    "\n",
    "\n",
    "# The next command will be responsible to display graphs in our notebook.\n",
    "%matplotlib inline"
   ]
  },
  {
   "cell_type": "markdown",
   "id": "494481a2",
   "metadata": {},
   "source": [
    "# Data Acquisition "
   ]
  },
  {
   "cell_type": "markdown",
   "id": "452e5b8e",
   "metadata": {},
   "source": [
    "At this step we are going to acquire the data we need from the website \"Booking.com\",  \n",
    "in order to build our DataFrame.  \n",
    "Booking.com does not provide an API, so the method we will be using is \"Crawling\",  \n",
    "that will iterate all pages and objects to access the required data."
   ]
  },
  {
   "cell_type": "markdown",
   "id": "e0aebd2e",
   "metadata": {},
   "source": [
    "## Crawling "
   ]
  },
  {
   "cell_type": "markdown",
   "id": "2185cd78",
   "metadata": {},
   "source": [
    "We will now fetch what we need from the website \"Booking.com\",  \n",
    "by inspecting the source code of each page and understanding the structure of the objects (hotels)  \n"
   ]
  },
  {
   "cell_type": "code",
   "execution_count": 6,
   "id": "5a7061ae",
   "metadata": {},
   "outputs": [],
   "source": [
    "# creating the function to load a beautifulsoup object that we can work on.\n",
    "def load_soup_object(link):\n",
    "    response_link = requests.get(link ,headers=0)\n",
    "    soup_object = BeautifulSoup(response_link.content, \"html.parser\")\n",
    "    return soup_object\n"
   ]
  },
  {
   "cell_type": "code",
   "execution_count": null,
   "id": "7f7460c6",
   "metadata": {
    "scrolled": true
   },
   "outputs": [],
   "source": [
    "# Lets get the URL and parse it before we create our DataFrame\n",
    "URL = \"https://www.booking.com/he\"\n",
    "soup = load_soup_object(URL)\n",
    "\n",
    "# Now we will create the lists that will serve as the columns for the DataFrame\n",
    "Hotel_Name = []\n",
    "Staff_Rating = []\n",
    "Facilities_Rating = []\n",
    "Cleanliness_Rating = []\n",
    "Comfort_Rating = []\n",
    "Value_For_Money_Rating = []\n",
    "Location_Rating = []\n",
    "Free_WiFi_Rating = []\n",
    "Final_Grade = []\n",
    "\n",
    "\n",
    "\n",
    "# accessing the class that contains the list of regions - not only in israel \n",
    "# and creating a list of known cities to be extracted \n",
    "# counter will be used to save the index of the desired regions - then to specify the index withing the 'searches' list\n",
    "\n",
    "searches = soup.find(class_=\"ia_section-container clearfix wcu-seo-regions-poi\").find_all('a')\n",
    "cities = [\"אזור ירושלים\",\"אזור המרכז\",\"גליל\",\"גליל עליון\",\"כנרת\",\"אזור תל אביב\",\"דרום הארץ\",\"ים המלח\",\"נגב\",\"צפון הארץ\",\"רמת הגולן\"]\n",
    "names = []\n",
    "indexes = []\n",
    "href_list = []\n",
    "counter = 0\n",
    "# now, 'searches' is a list with all the regions,we want to loop through and extract only the ones we want\n",
    "# first, we are getting the name of each object in the list, and checking if it exists in our desired regeions list 'cities'\n",
    "# if the term is met, we are appending the corresponding index(integer) to the indexes list\n",
    "# and extracting the corresponding link with the \"href\" tag and concatanating it to the original URL\n",
    "for i in searches:\n",
    "    name1 = i.get_text().replace(\"\\n\", \"\") \n",
    "    if name1 in cities:\n",
    "        names.append(name1)\n",
    "        indexes.append(counter)\n",
    "        href = searches[counter].get(\"href\").strip() # getting the link for a specific region that matches our 'cities' list\n",
    "        URL2 = URL+href\n",
    "        soup2 = load_soup_object(URL2)\n",
    "        \n",
    "        # now that we have the full link to the specific region\n",
    "        # lets parse it so we can inspect and work with each page \n",
    "        # each region`s page has a specific \"Watch all\" link that needs to be accessed\n",
    "        # therefore, we are accessing the class that contains the only object(link) we need\n",
    "        # and concatanating the link to the original URL\n",
    "        \n",
    "        searches2 = soup2.find(class_=\"lp-bui-section bui-spacer--largest x2\").find_all(\"a\")\n",
    "        print(\"counter is : \", counter)\n",
    "        print(\"region is : \", name1)\n",
    "        nexthref = URL + searches2[0].get(\"href\").strip()\n",
    "        print(\"full name : \", searches2[0].get_text())\n",
    "        href_list.append(nexthref)\n",
    "        print(\"\\nhref is :\\n\",nexthref, \"\\n\")\n",
    "    counter+=1\n",
    "\n",
    "# now after this for loop we have a list that contains all the links to the full page of each desired region\n",
    "\n",
    "print(names)\n",
    "print(indexes)\n",
    "\n",
    "\n",
    "    \n",
    "    "
   ]
  },
  {
   "cell_type": "markdown",
   "id": "6bc5ad69",
   "metadata": {},
   "source": [
    "Now after we have a list of the correct and desired regions,  \n",
    "we are going to access each region's page and loop through all other pages  \n",
    "so we can extract the information we need regarding each item(hotel) in the page."
   ]
  },
  {
   "cell_type": "code",
   "execution_count": 7,
   "id": "eb0fbce7",
   "metadata": {},
   "outputs": [],
   "source": [
    "# in the next block we will define the function that will adjust links\n",
    "# to help us move between pages inside our website\n",
    "# url_num : is the variable responsible to indicate which page we are going to display (1st page = 25, 2nd page = 50...)\n",
    "# url_num_flag : is the variable that we will use to know how to \"cut\" the link string i.e after 3 iterations \n",
    "#                                    we will have the number 100 so we need to cut 3 digits instead of 5\n",
    "# offset_flag : is the variable that will indicate whether the 1st page`s link ends with &offset=25 OR just &\n",
    "# region counter is not critical to the code - just counting how many links starting with \"offset\"\n",
    "# using global keyword to be able to update values that exist outside of the funtion \n",
    "\n",
    "def adjust_link():\n",
    "    global link\n",
    "    global url_num\n",
    "    global offset_flag\n",
    "    global url_num_flag\n",
    "    global region_counter\n",
    "    if offset_flag == 0: # flag == 0 ---> // first page is link is : https://dfsdfs&offset=25\n",
    "            region_counter += 1\n",
    "            print(\"with offset for link is : \", link)\n",
    "            print(\"url flag is : \", url_num_flag)\n",
    "            if url_num_flag >= 39:\n",
    "                link = link[:-4]\n",
    "                link += str(url_num)\n",
    "                url_num += 25\n",
    "\n",
    "            elif url_num_flag >= 3:\n",
    "                link = link[:-3]\n",
    "                link += str(url_num)\n",
    "                url_num += 25\n",
    "\n",
    "            else:\n",
    "                link = link[:-2]\n",
    "                link += str(url_num)\n",
    "                url_num += 25\n",
    "\n",
    "    else: # flag == 1 ---> // first page is link is : https://dfsdfs&\n",
    "        region_counter -= 1\n",
    "        link += \"offset=25\"\n",
    "        offset_flag = 0\n",
    "        url_num += 25\n",
    "    url_num_flag += 1\n",
    "    return link\n",
    "        "
   ]
  },
  {
   "cell_type": "code",
   "execution_count": null,
   "id": "a969288f",
   "metadata": {},
   "outputs": [],
   "source": [
    "# now that we have all the links to all regions(north, negev etc.),\n",
    "# we need to parse each one with html.parser so we can work with it\n",
    "counter2 = 0\n",
    "region_counter = 0 # will count how many regions are starting with offset\n",
    "for link in href_list: #i.e north, south, negev\n",
    "    \n",
    "    # url_num_flag will tell us how do we need to cut the link to adjust it for next pages\n",
    "    # url_num will be the indicator for which page we want to fetch --> 1st page will be 25, 2nd will be 50....\n",
    "    url_num_flag = 0\n",
    "    url_num = 50\n",
    "    #some pages links starts with an \"offset\" after the last & in the link, and some not, we need to check this with flag\n",
    "    offset_flag = 0\n",
    "    if link[-1] == \"&\":\n",
    "        offset_flag = 1\n",
    "        url_num_flag -= 1\n",
    "        url_num -= 25\n",
    "    # PRINTING FOR CHECK print(\"prime link is : \", link)\n",
    "    city_soup = load_soup_object(link)\n",
    "    number_of_pages = int(city_soup.find(class_=\"d493c719bc\").find_all('li')[-1].get_text())\n",
    "    for i in range(number_of_pages-1):\n",
    "        # PRINTING FOR CHECK print(\"page is : \", i+1)\n",
    "        # PRINTING FOR CHECK print(\"page link is : \", link)\n",
    "        city_soup2 = load_soup_object(link)\n",
    "        \n",
    "        # find all links(names links) for all hotels in the page into a list.\n",
    "        try:\n",
    "            hotels = city_soup2.find(class_=\"d4924c9e74\").find_all('h3')\n",
    "        except:\n",
    "            adjust_link()\n",
    "            continue\n",
    "        # PRINTING FOR CHECK print(\"len hotels : \", len(hotels))\n",
    "        \n",
    "        # now we start extracting information for the dataframe. we start by taking the hotel names into the hotel name list\n",
    "        for item in hotels: # looping through the h3 class for the hotels --- item == href of single hotel\n",
    "            # PRINTING FOR CHECK print(\"current hotel is in page : \", i+1)\n",
    "            # flag will indicate if our 7 parameters exist \n",
    "            flag = 0\n",
    "            # PRINTING FOR CHECK print(\"hotel : \",item.a.find(class_=\"fcab3ed991 a23c043802\").get_text())\n",
    "            hotel_eng_name = \"\"\n",
    "            \n",
    "            #if the hotel name is in hebrew - we will now fetch the english name for it - straight from the URL\n",
    "            # because the hotel name starts after the 33rd character in the URL\n",
    "            item_for_name = item.a.get(\"href\").strip()[33:]\n",
    "            for s in item_for_name:\n",
    "                if s == \".\":\n",
    "                    break\n",
    "                hotel_eng_name += s\n",
    "            Hotel_Name.append(hotel_eng_name)\n",
    "            # PRINTING FOR CHECK print(\"hotel in english : \", hotel_eng_name)\n",
    "            # PRINTING FOR CHECK print(\"hotel link is :\",item.a.get(\"href\").strip())\n",
    "            hotel_soup = load_soup_object(item.a.get(\"href\").strip()) #loading the soup object of single hotel link\n",
    "            \n",
    "            # the grade of the hotel is in a seperate place from other parameters - lets extract the final grade.\n",
    "            try:\n",
    "                hotel_grade = hotel_soup.find('div',\n",
    "                                   attrs={\"class\" : \"a1b3f50dcd b2fe1a41c3 a1f3ecff04 db7f07f643 d19ba76520 f4e25490ec\"})\n",
    "                hotel_grade2 = hotel_grade.find(class_=\"b5cd09854e d10a6220b4\").get_text()\n",
    "            except:\n",
    "                hotel_grade2 = 0\n",
    "            Final_Grade.append(hotel_grade2)\n",
    "\n",
    "            #now lets get inside the link of the current hotel - and fetch the information for our DataFrame\n",
    "            hotel_props = hotel_soup.select(\".v2_review-scores__body.v2_review-scores__body--compared_to_average li\")\n",
    "            hotel_props2 = hotel_props[14:]\n",
    "            # PRINTING FOR CHECK print(\"hotel props len is : \", len(hotel_props2))\n",
    "            \n",
    "            # next block will check for errors in the data we want to scrape, in case of an error or missing data\n",
    "            # we will fill the values with 0.\n",
    "            # flag = 1 will indicate that our hotel has missing data.\n",
    "            if (len(hotel_props2)) < 7:\n",
    "                # PRINTING FOR CHECK print(\"problem in hotel : \", Hotel_Name[counter2])\n",
    "                # PRINTING FOR CHECK print(\"hotel props : \", hotel_props2)\n",
    "                flag = 1\n",
    "            if flag == 1:\n",
    "                Staff_Rating.append(0)\n",
    "                Facilities_Rating.append(0)\n",
    "                Cleanliness_Rating.append(0)\n",
    "                Comfort_Rating.append(0)\n",
    "                Value_For_Money_Rating.append(0)\n",
    "                Location_Rating.append(0)\n",
    "                Free_WiFi_Rating.append(0)\n",
    "            else:\n",
    "                Staff_Rating.append(hotel_props2[0].find(class_=\"c-score-bar__score\").get_text())\n",
    "                Facilities_Rating.append(hotel_props2[1].find(class_=\"c-score-bar__score\").get_text())\n",
    "                Cleanliness_Rating.append(hotel_props2[2].find(class_=\"c-score-bar__score\").get_text())\n",
    "                Comfort_Rating.append(hotel_props2[3].find(class_=\"c-score-bar__score\").get_text())\n",
    "                Value_For_Money_Rating.append(hotel_props2[4].find(class_=\"c-score-bar__score\").get_text())\n",
    "                Location_Rating.append(hotel_props2[5].find(class_=\"c-score-bar__score\").get_text())\n",
    "                Free_WiFi_Rating.append(hotel_props2[6].find(class_=\"c-score-bar__score\").get_text())\n",
    "        adjust_link()\n",
    "\n",
    "    \n",
    "dfdict = {\"Hotel_Names\":Hotel_Name,\"Staff_Rating\":Staff_Rating, \"Facilities_Rating\":Facilities_Rating, \"Cleanliness_Rating\":Cleanliness_Rating, \"Comfort_Rating\":Comfort_Rating, \"Value_For_Money_Rating\":Value_For_Money_Rating, \"Location_Rating\":Location_Rating, \"Free_WiFi_Rating\":Free_WiFi_Rating, \"Final_Grade\":Final_Grade}\n",
    "df = pd.DataFrame(data=dfdict)\n",
    "df.to_csv('./BookingHotels.csv')\n",
    "df.style\n",
    "\n",
    "\n",
    "\n",
    "\n",
    "    "
   ]
  },
  {
   "cell_type": "markdown",
   "id": "0fe0f26e",
   "metadata": {},
   "source": [
    "## This is the end of the Data Acquisition section\n",
    "#### In order to work more efficiently, we will now work on our csv that we saved to our computer."
   ]
  },
  {
   "cell_type": "markdown",
   "id": "93c56c4d",
   "metadata": {},
   "source": [
    "#### As we can see below, the DataFrame has 9 columns :\n",
    "     - one column for the name of the hotel\n",
    "     - 8 columns for different parameters which store values between 0 - 10 as 'float'"
   ]
  },
  {
   "cell_type": "code",
   "execution_count": 8,
   "id": "0a9c0247",
   "metadata": {},
   "outputs": [
    {
     "data": {
      "text/html": [
       "<div>\n",
       "<style scoped>\n",
       "    .dataframe tbody tr th:only-of-type {\n",
       "        vertical-align: middle;\n",
       "    }\n",
       "\n",
       "    .dataframe tbody tr th {\n",
       "        vertical-align: top;\n",
       "    }\n",
       "\n",
       "    .dataframe thead th {\n",
       "        text-align: right;\n",
       "    }\n",
       "</style>\n",
       "<table border=\"1\" class=\"dataframe\">\n",
       "  <thead>\n",
       "    <tr style=\"text-align: right;\">\n",
       "      <th></th>\n",
       "      <th>Hotel_Names</th>\n",
       "      <th>Staff_Rating</th>\n",
       "      <th>Facilities_Rating</th>\n",
       "      <th>Cleanliness_Rating</th>\n",
       "      <th>Comfort_Rating</th>\n",
       "      <th>Value_For_Money_Rating</th>\n",
       "      <th>Location_Rating</th>\n",
       "      <th>Free_WiFi_Rating</th>\n",
       "      <th>Final_Grade</th>\n",
       "    </tr>\n",
       "  </thead>\n",
       "  <tbody>\n",
       "    <tr>\n",
       "      <th>0</th>\n",
       "      <td>desert-view</td>\n",
       "      <td>9.4</td>\n",
       "      <td>9.0</td>\n",
       "      <td>8.9</td>\n",
       "      <td>9.2</td>\n",
       "      <td>9.0</td>\n",
       "      <td>9.1</td>\n",
       "      <td>9.2</td>\n",
       "      <td>8.9</td>\n",
       "    </tr>\n",
       "    <tr>\n",
       "      <th>1</th>\n",
       "      <td>eretz-zeelim</td>\n",
       "      <td>8.4</td>\n",
       "      <td>7.8</td>\n",
       "      <td>7.8</td>\n",
       "      <td>7.7</td>\n",
       "      <td>7.2</td>\n",
       "      <td>8.1</td>\n",
       "      <td>4.6</td>\n",
       "      <td>7.6</td>\n",
       "    </tr>\n",
       "    <tr>\n",
       "      <th>2</th>\n",
       "      <td>kibbutz-lotan-ecotourism</td>\n",
       "      <td>9.3</td>\n",
       "      <td>8.0</td>\n",
       "      <td>8.6</td>\n",
       "      <td>8.3</td>\n",
       "      <td>8.4</td>\n",
       "      <td>9.0</td>\n",
       "      <td>7.8</td>\n",
       "      <td>8.3</td>\n",
       "    </tr>\n",
       "    <tr>\n",
       "      <th>3</th>\n",
       "      <td>desert-iris</td>\n",
       "      <td>8.3</td>\n",
       "      <td>7.6</td>\n",
       "      <td>7.6</td>\n",
       "      <td>8.1</td>\n",
       "      <td>7.4</td>\n",
       "      <td>8.3</td>\n",
       "      <td>7.3</td>\n",
       "      <td>7.7</td>\n",
       "    </tr>\n",
       "    <tr>\n",
       "      <th>4</th>\n",
       "      <td>amazing-bedouin-hospitality</td>\n",
       "      <td>9.8</td>\n",
       "      <td>8.9</td>\n",
       "      <td>9.2</td>\n",
       "      <td>9.0</td>\n",
       "      <td>9.3</td>\n",
       "      <td>8.6</td>\n",
       "      <td>9.1</td>\n",
       "      <td>9.2</td>\n",
       "    </tr>\n",
       "  </tbody>\n",
       "</table>\n",
       "</div>"
      ],
      "text/plain": [
       "                   Hotel_Names  Staff_Rating  Facilities_Rating  \\\n",
       "0                  desert-view           9.4                9.0   \n",
       "1                 eretz-zeelim           8.4                7.8   \n",
       "2     kibbutz-lotan-ecotourism           9.3                8.0   \n",
       "3                  desert-iris           8.3                7.6   \n",
       "4  amazing-bedouin-hospitality           9.8                8.9   \n",
       "\n",
       "   Cleanliness_Rating  Comfort_Rating  Value_For_Money_Rating  \\\n",
       "0                 8.9             9.2                     9.0   \n",
       "1                 7.8             7.7                     7.2   \n",
       "2                 8.6             8.3                     8.4   \n",
       "3                 7.6             8.1                     7.4   \n",
       "4                 9.2             9.0                     9.3   \n",
       "\n",
       "   Location_Rating  Free_WiFi_Rating  Final_Grade  \n",
       "0              9.1               9.2          8.9  \n",
       "1              8.1               4.6          7.6  \n",
       "2              9.0               7.8          8.3  \n",
       "3              8.3               7.3          7.7  \n",
       "4              8.6               9.1          9.2  "
      ]
     },
     "execution_count": 8,
     "metadata": {},
     "output_type": "execute_result"
    }
   ],
   "source": [
    "# Lets read the csv with the help of pandas function. \n",
    "# We use the index_col=[0] to drop the column indexes brought by the CSV file and has nothing to do with\n",
    "df = pd.read_csv('./BookingHotels.csv', index_col=[0])\n",
    "df.head()"
   ]
  },
  {
   "cell_type": "markdown",
   "id": "29cce334",
   "metadata": {},
   "source": [
    "## Inspecting our DataFrame"
   ]
  },
  {
   "cell_type": "markdown",
   "id": "852708da",
   "metadata": {},
   "source": [
    "#### As we can see Below :  \n",
    "#### our complete DataFrame (after fetching data through Crawling) has 7999 rows, and 9 columns\n",
    "    - 1 column store the hotel name as type 'Object'\n",
    "    - 8 columns store values of type 'float'"
   ]
  },
  {
   "cell_type": "code",
   "execution_count": 10,
   "id": "a71c86c8",
   "metadata": {},
   "outputs": [
    {
     "name": "stdout",
     "output_type": "stream",
     "text": [
      "<class 'pandas.core.frame.DataFrame'>\n",
      "Int64Index: 8000 entries, 0 to 7999\n",
      "Data columns (total 9 columns):\n",
      " #   Column                  Non-Null Count  Dtype  \n",
      "---  ------                  --------------  -----  \n",
      " 0   Hotel_Names             8000 non-null   object \n",
      " 1   Staff_Rating            8000 non-null   float64\n",
      " 2   Facilities_Rating       8000 non-null   float64\n",
      " 3   Cleanliness_Rating      8000 non-null   float64\n",
      " 4   Comfort_Rating          8000 non-null   float64\n",
      " 5   Value_For_Money_Rating  8000 non-null   float64\n",
      " 6   Location_Rating         8000 non-null   float64\n",
      " 7   Free_WiFi_Rating        8000 non-null   float64\n",
      " 8   Final_Grade             8000 non-null   float64\n",
      "dtypes: float64(8), object(1)\n",
      "memory usage: 625.0+ KB\n"
     ]
    }
   ],
   "source": [
    "df.info()"
   ]
  },
  {
   "cell_type": "markdown",
   "id": "5868a311",
   "metadata": {},
   "source": [
    "# Data Cleaning"
   ]
  },
  {
   "cell_type": "code",
   "execution_count": 5,
   "id": "84687025",
   "metadata": {},
   "outputs": [
    {
     "name": "stdout",
     "output_type": "stream",
     "text": [
      "<class 'pandas.core.frame.DataFrame'>\n",
      "RangeIndex: 1978 entries, 0 to 1977\n",
      "Data columns (total 9 columns):\n",
      " #   Column                  Non-Null Count  Dtype  \n",
      "---  ------                  --------------  -----  \n",
      " 0   Hotel_Names             1978 non-null   object \n",
      " 1   Staff_Rating            1978 non-null   float64\n",
      " 2   Facilities_Rating       1978 non-null   float64\n",
      " 3   Cleanliness_Rating      1978 non-null   float64\n",
      " 4   Comfort_Rating          1978 non-null   float64\n",
      " 5   Value_For_Money_Rating  1978 non-null   float64\n",
      " 6   Location_Rating         1978 non-null   float64\n",
      " 7   Free_WiFi_Rating        1978 non-null   float64\n",
      " 8   Final_Grade             1978 non-null   float64\n",
      "dtypes: float64(8), object(1)\n",
      "memory usage: 139.2+ KB\n"
     ]
    }
   ],
   "source": [
    "# in this code block we will handle our data inside our DataFrame that is incompatibe with our desired data.\n",
    "# first we will remove all missing data indicated by values of 0.0\n",
    "# after that we will drop dupliacted rows and we can simply check that by checking if the Hotel Name appear more than once\n",
    "# after that we will reset the indexes \n",
    "df2 = df[df.Comfort_Rating != 0.0]\n",
    "df2 = df2.drop_duplicates(subset=['Hotel_Names'])\n",
    "df2.reset_index(drop=True, inplace=True)\n",
    "df2.info()\n"
   ]
  },
  {
   "cell_type": "markdown",
   "id": "3e551a2d",
   "metadata": {},
   "source": [
    "# Data Visualizations"
   ]
  },
  {
   "cell_type": "code",
   "execution_count": 13,
   "id": "3649d676",
   "metadata": {},
   "outputs": [],
   "source": [
    "def one_dim_plot(sr, plot_type, axis):\n",
    "    if plot_type == \"bar\":\n",
    "        axis.bar(x = sr.index, height = sr.values)\n",
    "    elif plot_type == \"pie\":\n",
    "        axis.pie(x = sr.values, labels = sr.index)\n",
    "    else:\n",
    "        axis.plot(sr.index, sr.values)"
   ]
  },
  {
   "cell_type": "code",
   "execution_count": 8,
   "id": "5182761e",
   "metadata": {},
   "outputs": [],
   "source": [
    "def plot_frequent_elements(df, df_in_params):\n",
    "    fig, axes = plt.subplots(nrows = 1, ncols = df_in_params.shape[1], figsize = (20, 5))\n",
    "    for i in range(df_in_params.shape[1]):\n",
    "        if df_in_params.loc[:, \"plot_type\"].iat[i] == \"bar\":\n",
    "            axes[i].bar(x = get_frequent_elements(df, df_in_params.loc[:, \"col_name\"].iat[i], df_in_params.loc[:, \"num_top_elements\"].iat[i]).index,\n",
    "            height = get_frequent_elements(df, df_in_params.loc[:, \"col_name\"].iat[i], df_in_params.loc[:, \"num_top_elements\"].iat[i]).values)\n",
    "        elif df_in_params.loc[:, \"plot_type\"].iat[i] == \"pie\":\n",
    "            axes[i].pie(x = get_frequent_elements(df, df_in_params.loc[:, \"col_name\"].iat[i], df_in_params.loc[:, \"num_top_elements\"].iat[i]).values,\n",
    "            labels = get_frequent_elements(df, df_in_params.loc[:, \"col_name\"].iat[i], df_in_params.loc[:, \"num_top_elements\"].iat[i]).index)\n",
    "        else:\n",
    "            axes[i].plot(get_frequent_elements(df, df_in_params.loc[:, \"col_name\"].iat[i], df_in_params.loc[:, \"num_top_elements\"].iat[i]).index,\n",
    "                        get_frequent_elements(df, df_in_params.loc[:, \"col_name\"].iat[i], df_in_params.loc[:, \"num_top_elements\"].iat[i]).values)\n",
    "\n",
    "            \n",
    "def get_frequent_elements(df, col_name, num_top_elements):\n",
    "    most_frequent = df.value_counts(subset = col_name, sort = False, ascending = True)\n",
    "    return most_frequent.sort_values(ascending = True)[(len(most_frequent) - num_top_elements):]\n",
    "\n",
    "\n",
    "def cross_tabulation(df, col_name, other_col_name):\n",
    "     return pd.crosstab(index = df[col_name], columns = df[other_col_name], normalize = \"index\")"
   ]
  },
  {
   "cell_type": "code",
   "execution_count": 10,
   "id": "0d5a652f",
   "metadata": {},
   "outputs": [],
   "source": [
    "def plot_cross_tabulation(df, col_names, other_col_name):\n",
    "    fig, axes = plt.subplots(nrows = 1, ncols = len(col_names), figsize = (20, 5))\n",
    "    for i in range(len(col_names)):\n",
    "        ct = cross_tabulation(df, col_names[i], other_col_name)\n",
    "        axes[i].plot(ct.index, ct.values)"
   ]
  },
  {
   "cell_type": "code",
   "execution_count": 19,
   "id": "41aad36e",
   "metadata": {},
   "outputs": [
    {
     "data": {
      "text/plain": [
       "<matplotlib.lines.Line2D at 0x20feba3ffd0>"
      ]
     },
     "execution_count": 19,
     "metadata": {},
     "output_type": "execute_result"
    },
    {
     "data": {
      "image/png": "[encoded data removed]",
      "text/plain": [
       "<Figure size 432x288 with 1 Axes>"
      ]
     },
     "metadata": {
      "needs_background": "light"
     },
     "output_type": "display_data"
    }
   ],
   "source": [
    "plt.scatter(df2.Location_Rating, df2.Final_Grade)\n",
    "plt.axvline(df['Location_Rating'].median())\n",
    "plt.axhline(df['Final_Grade'].median())"
   ]
  },
  {
   "cell_type": "code",
   "execution_count": 40,
   "id": "72a9d2d3",
   "metadata": {},
   "outputs": [
    {
     "data": {
      "image/png": "[encoded data removed]",
      "text/plain": [
       "<Figure size 720x720 with 6 Axes>"
      ]
     },
     "metadata": {
      "needs_background": "light"
     },
     "output_type": "display_data"
    }
   ],
   "source": [
    "for i in range(1,7):\n",
    "    firstcol = df.columns[i] # Location_Rating\n",
    "    plt.subplot(2, 3, i)\n",
    "    plt.gcf().set_size_inches((10, 10)) \n",
    "    plt.scatter(df2[firstcol], df2.Final_Grade)\n",
    "    plt.ylabel(df2.columns[i],fontsize = 8)\n",
    "    plt.xlabel('Final_Grade',fontsize = 8)\n",
    "    \n",
    "    \n",
    "plt.tight_layout()"
   ]
  },
  {
   "cell_type": "code",
   "execution_count": null,
   "id": "e309aced",
   "metadata": {},
   "outputs": [],
   "source": []
  },
  {
   "cell_type": "code",
   "execution_count": null,
   "id": "76a4f8fe",
   "metadata": {},
   "outputs": [],
   "source": []
  }
 ],
 "metadata": {
  "kernelspec": {
   "display_name": "Python 3 (ipykernel)",
   "language": "python",
   "name": "python3"
  },
  "language_info": {
   "codemirror_mode": {
    "name": "ipython",
    "version": 3
   },
   "file_extension": ".py",
   "mimetype": "text/x-python",
   "name": "python",
   "nbconvert_exporter": "python",
   "pygments_lexer": "ipython3",
   "version": "3.9.7"
  }
 },
 "nbformat": 4,
 "nbformat_minor": 5
}
