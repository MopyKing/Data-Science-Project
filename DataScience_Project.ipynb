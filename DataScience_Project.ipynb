{
 "cells": [
  {
   "cell_type": "markdown",
   "id": "bc8a4147",
   "metadata": {},
   "source": [
    "# Hotel Rating Prediction\n",
    "In this project we will inspect the question   \n",
    "whether we can or can not predict the overall rating on a given hotel  \n",
    "according to different parameters which we already know (such as food rating, location rating etc.)"
   ]
  },
  {
   "cell_type": "markdown",
   "id": "56c1b7b7",
   "metadata": {},
   "source": [
    "## Importing Dependencies"
   ]
  },
  {
   "cell_type": "markdown",
   "id": "f3574a06",
   "metadata": {},
   "source": [
    "the next block will be responsible for installing and importing\n",
    "the necessary libraries and functions."
   ]
  },
  {
   "cell_type": "code",
   "execution_count": 78,
   "id": "86a161df",
   "metadata": {},
   "outputs": [],
   "source": [
    "# First lets import the libraries we need :\n",
    "import requests\n",
    "import pandas as pd\n",
    "import numpy as np\n",
    "import scipy as sc\n",
    "from bs4 import BeautifulSoup\n",
    "import time\n",
    "import os\n",
    "import datetime\n",
    "import matplotlib.pyplot as plt\n",
    "import matplotlib as mpl\n",
    "from matplotlib import colors\n",
    "from matplotlib.ticker import PercentFormatter\n",
    "from collections import Counter\n",
    "import seaborn as sns\n",
    "import sklearn\n",
    "from sklearn.preprocessing import StandardScaler, MinMaxScaler\n",
    "from sklearn.model_selection import train_test_split\n",
    "from sklearn.linear_model import LogisticRegression\n",
    "from sklearn import linear_model\n",
    "\n",
    "# The next command will be responsible to display graphs in our notebook.\n",
    "%matplotlib inline"
   ]
  },
  {
   "cell_type": "markdown",
   "id": "494481a2",
   "metadata": {},
   "source": [
    "# Data Acquisition "
   ]
  },
  {
   "cell_type": "markdown",
   "id": "452e5b8e",
   "metadata": {},
   "source": [
    "At this step we are going to acquire the data we need from the website \"Booking.com\",  \n",
    "in order to build our DataFrame.  \n",
    "Booking.com does not provide an API, so the method we will be using is \"Crawling\",  \n",
    "that will iterate all pages and objects to access the required data."
   ]
  },
  {
   "cell_type": "markdown",
   "id": "e0aebd2e",
   "metadata": {},
   "source": [
    "## Crawling "
   ]
  },
  {
   "cell_type": "markdown",
   "id": "2185cd78",
   "metadata": {},
   "source": [
    "We will now fetch what we need from the website \"Booking.com\",  \n",
    "by inspecting the source code of each page and understanding the structure of the objects (hotels)  \n"
   ]
  },
  {
   "cell_type": "code",
   "execution_count": 2,
   "id": "5a7061ae",
   "metadata": {},
   "outputs": [],
   "source": [
    "# creating the function to load a beautifulsoup object that we can work on.\n",
    "def load_soup_object(link):\n",
    "    response_link = requests.get(link ,headers=0)\n",
    "    soup_object = BeautifulSoup(response_link.content, \"html.parser\")\n",
    "    return soup_object\n"
   ]
  },
  {
   "cell_type": "code",
   "execution_count": null,
   "id": "7f7460c6",
   "metadata": {
    "scrolled": true
   },
   "outputs": [],
   "source": [
    "# Lets get the URL and parse it before we create our DataFrame\n",
    "URL = \"https://www.booking.com/he\"\n",
    "soup = load_soup_object(URL)\n",
    "\n",
    "# Now we will create the lists that will serve as the columns for the DataFrame\n",
    "Hotel_Name = []\n",
    "Staff_Rating = []\n",
    "Facilities_Rating = []\n",
    "Cleanliness_Rating = []\n",
    "Comfort_Rating = []\n",
    "Value_For_Money_Rating = []\n",
    "Location_Rating = []\n",
    "Free_WiFi_Rating = []\n",
    "Final_Grade = []\n",
    "\n",
    "\n",
    "\n",
    "# accessing the class that contains the list of regions - not only in israel \n",
    "# and creating a list of known cities to be extracted \n",
    "# counter will be used to save the index of the desired regions - then to specify the index withing the 'searches' list\n",
    "\n",
    "searches = soup.find(class_=\"ia_section-container clearfix wcu-seo-regions-poi\").find_all('a')\n",
    "cities = [\"אזור ירושלים\",\"אזור המרכז\",\"גליל\",\"גליל עליון\",\"כנרת\",\"אזור תל אביב\",\"דרום הארץ\",\"ים המלח\",\"נגב\",\"צפון הארץ\",\"רמת הגולן\"]\n",
    "names = []\n",
    "indexes = []\n",
    "href_list = []\n",
    "counter = 0\n",
    "# now, 'searches' is a list with all the regions,we want to loop through and extract only the ones we want\n",
    "# first, we are getting the name of each object in the list, and checking if it exists in our desired regeions list 'cities'\n",
    "# if the term is met, we are appending the corresponding index(integer) to the indexes list\n",
    "# and extracting the corresponding link with the \"href\" tag and concatanating it to the original URL\n",
    "for i in searches:\n",
    "    name1 = i.get_text().replace(\"\\n\", \"\") \n",
    "    if name1 in cities:\n",
    "        names.append(name1)\n",
    "        indexes.append(counter)\n",
    "        href = searches[counter].get(\"href\").strip() # getting the link for a specific region that matches our 'cities' list\n",
    "        URL2 = URL+href\n",
    "        soup2 = load_soup_object(URL2)\n",
    "        \n",
    "        # now that we have the full link to the specific region\n",
    "        # lets parse it so we can inspect and work with each page \n",
    "        # each region`s page has a specific \"Watch all\" link that needs to be accessed\n",
    "        # therefore, we are accessing the class that contains the only object(link) we need\n",
    "        # and concatanating the link to the original URL\n",
    "        \n",
    "        searches2 = soup2.find(class_=\"lp-bui-section bui-spacer--largest x2\").find_all(\"a\")\n",
    "        print(\"counter is : \", counter)\n",
    "        print(\"region is : \", name1)\n",
    "        nexthref = URL + searches2[0].get(\"href\").strip()\n",
    "        print(\"full name : \", searches2[0].get_text())\n",
    "        href_list.append(nexthref)\n",
    "        print(\"\\nhref is :\\n\",nexthref, \"\\n\")\n",
    "    counter+=1\n",
    "\n",
    "# now after this for loop we have a list that contains all the links to the full page of each desired region\n",
    "\n",
    "print(names)\n",
    "print(indexes)\n",
    "\n",
    "\n",
    "    \n",
    "    "
   ]
  },
  {
   "cell_type": "markdown",
   "id": "6bc5ad69",
   "metadata": {},
   "source": [
    "Now after we have a list of the correct and desired regions,  \n",
    "we are going to access each region's page and loop through all other pages  \n",
    "so we can extract the information we need regarding each item(hotel) in the page."
   ]
  },
  {
   "cell_type": "code",
   "execution_count": 3,
   "id": "eb0fbce7",
   "metadata": {},
   "outputs": [],
   "source": [
    "# in the next block we will define the function that will adjust links\n",
    "# to help us move between pages inside our website\n",
    "# url_num : is the variable responsible to indicate which page we are going to display (1st page = 25, 2nd page = 50...)\n",
    "# url_num_flag : is the variable that we will use to know how to \"cut\" the link string i.e after 3 iterations \n",
    "#                                    we will have the number 100 so we need to cut 3 digits instead of 5\n",
    "# offset_flag : is the variable that will indicate whether the 1st page`s link ends with &offset=25 OR just &\n",
    "# region counter is not critical to the code - just counting how many links starting with \"offset\"\n",
    "# using global keyword to be able to update values that exist outside of the funtion \n",
    "\n",
    "def adjust_link():\n",
    "    global link\n",
    "    global url_num\n",
    "    global offset_flag\n",
    "    global url_num_flag\n",
    "    global region_counter\n",
    "    if offset_flag == 0: # flag == 0 ---> // first page is link is : https://dfsdfs&offset=25\n",
    "            region_counter += 1\n",
    "            print(\"with offset for link is : \", link)\n",
    "            print(\"url flag is : \", url_num_flag)\n",
    "            if url_num_flag >= 39:\n",
    "                link = link[:-4]\n",
    "                link += str(url_num)\n",
    "                url_num += 25\n",
    "\n",
    "            elif url_num_flag >= 3:\n",
    "                link = link[:-3]\n",
    "                link += str(url_num)\n",
    "                url_num += 25\n",
    "\n",
    "            else:\n",
    "                link = link[:-2]\n",
    "                link += str(url_num)\n",
    "                url_num += 25\n",
    "\n",
    "    else: # flag == 1 ---> // first page is link is : https://dfsdfs&\n",
    "        region_counter -= 1\n",
    "        link += \"offset=25\"\n",
    "        offset_flag = 0\n",
    "        url_num += 25\n",
    "    url_num_flag += 1\n",
    "    return link\n",
    "        "
   ]
  },
  {
   "cell_type": "code",
   "execution_count": null,
   "id": "a969288f",
   "metadata": {},
   "outputs": [],
   "source": [
    "# now that we have all the links to all regions(north, negev etc.),\n",
    "# we need to parse each one with html.parser so we can work with it\n",
    "counter2 = 0\n",
    "region_counter = 0 # will count how many regions are starting with offset\n",
    "for link in href_list: #i.e north, south, negev\n",
    "    \n",
    "    # url_num_flag will tell us how do we need to cut the link to adjust it for next pages\n",
    "    # url_num will be the indicator for which page we want to fetch --> 1st page will be 25, 2nd will be 50....\n",
    "    url_num_flag = 0\n",
    "    url_num = 50\n",
    "    #some pages links starts with an \"offset\" after the last & in the link, and some not, we need to check this with flag\n",
    "    offset_flag = 0\n",
    "    if link[-1] == \"&\":\n",
    "        offset_flag = 1\n",
    "        url_num_flag -= 1\n",
    "        url_num -= 25\n",
    "    # PRINTING FOR CHECK print(\"prime link is : \", link)\n",
    "    city_soup = load_soup_object(link)\n",
    "    number_of_pages = int(city_soup.find(class_=\"d493c719bc\").find_all('li')[-1].get_text())\n",
    "    for i in range(number_of_pages-1):\n",
    "        # PRINTING FOR CHECK print(\"page is : \", i+1)\n",
    "        # PRINTING FOR CHECK print(\"page link is : \", link)\n",
    "        city_soup2 = load_soup_object(link)\n",
    "        \n",
    "        # find all links(names links) for all hotels in the page into a list.\n",
    "        try:\n",
    "            hotels = city_soup2.find(class_=\"d4924c9e74\").find_all('h3')\n",
    "        except:\n",
    "            adjust_link()\n",
    "            continue\n",
    "        # PRINTING FOR CHECK print(\"len hotels : \", len(hotels))\n",
    "        \n",
    "        # now we start extracting information for the dataframe. we start by taking the hotel names into the hotel name list\n",
    "        for item in hotels: # looping through the h3 class for the hotels --- item == href of single hotel\n",
    "            # PRINTING FOR CHECK print(\"current hotel is in page : \", i+1)\n",
    "            # flag will indicate if our 7 parameters exist \n",
    "            flag = 0\n",
    "            # PRINTING FOR CHECK print(\"hotel : \",item.a.find(class_=\"fcab3ed991 a23c043802\").get_text())\n",
    "            hotel_eng_name = \"\"\n",
    "            \n",
    "            #if the hotel name is in hebrew - we will now fetch the english name for it - straight from the URL\n",
    "            # because the hotel name starts after the 33rd character in the URL\n",
    "            item_for_name = item.a.get(\"href\").strip()[33:]\n",
    "            for s in item_for_name:\n",
    "                if s == \".\":\n",
    "                    break\n",
    "                hotel_eng_name += s\n",
    "            Hotel_Name.append(hotel_eng_name)\n",
    "            # PRINTING FOR CHECK print(\"hotel in english : \", hotel_eng_name)\n",
    "            # PRINTING FOR CHECK print(\"hotel link is :\",item.a.get(\"href\").strip())\n",
    "            hotel_soup = load_soup_object(item.a.get(\"href\").strip()) #loading the soup object of single hotel link\n",
    "            \n",
    "            # the grade of the hotel is in a seperate place from other parameters - lets extract the final grade.\n",
    "            try:\n",
    "                hotel_grade = hotel_soup.find('div',\n",
    "                                   attrs={\"class\" : \"a1b3f50dcd b2fe1a41c3 a1f3ecff04 db7f07f643 d19ba76520 f4e25490ec\"})\n",
    "                hotel_grade2 = hotel_grade.find(class_=\"b5cd09854e d10a6220b4\").get_text()\n",
    "            except:\n",
    "                hotel_grade2 = 0\n",
    "            Final_Grade.append(hotel_grade2)\n",
    "\n",
    "            #now lets get inside the link of the current hotel - and fetch the information for our DataFrame\n",
    "            hotel_props = hotel_soup.select(\".v2_review-scores__body.v2_review-scores__body--compared_to_average li\")\n",
    "            hotel_props2 = hotel_props[14:]\n",
    "            # PRINTING FOR CHECK print(\"hotel props len is : \", len(hotel_props2))\n",
    "            \n",
    "            # next block will check for errors in the data we want to scrape, in case of an error or missing data\n",
    "            # we will fill the values with 0.\n",
    "            # flag = 1 will indicate that our hotel has missing data.\n",
    "            if (len(hotel_props2)) < 7:\n",
    "                # PRINTING FOR CHECK print(\"problem in hotel : \", Hotel_Name[counter2])\n",
    "                # PRINTING FOR CHECK print(\"hotel props : \", hotel_props2)\n",
    "                flag = 1\n",
    "            if flag == 1:\n",
    "                Staff_Rating.append(0)\n",
    "                Facilities_Rating.append(0)\n",
    "                Cleanliness_Rating.append(0)\n",
    "                Comfort_Rating.append(0)\n",
    "                Value_For_Money_Rating.append(0)\n",
    "                Location_Rating.append(0)\n",
    "                Free_WiFi_Rating.append(0)\n",
    "            else:\n",
    "                Staff_Rating.append(hotel_props2[0].find(class_=\"c-score-bar__score\").get_text())\n",
    "                Facilities_Rating.append(hotel_props2[1].find(class_=\"c-score-bar__score\").get_text())\n",
    "                Cleanliness_Rating.append(hotel_props2[2].find(class_=\"c-score-bar__score\").get_text())\n",
    "                Comfort_Rating.append(hotel_props2[3].find(class_=\"c-score-bar__score\").get_text())\n",
    "                Value_For_Money_Rating.append(hotel_props2[4].find(class_=\"c-score-bar__score\").get_text())\n",
    "                Location_Rating.append(hotel_props2[5].find(class_=\"c-score-bar__score\").get_text())\n",
    "                Free_WiFi_Rating.append(hotel_props2[6].find(class_=\"c-score-bar__score\").get_text())\n",
    "        adjust_link()\n",
    "\n",
    "    \n",
    "dfdict = {\"Hotel_Names\":Hotel_Name,\"Staff_Rating\":Staff_Rating, \"Facilities_Rating\":Facilities_Rating, \"Cleanliness_Rating\":Cleanliness_Rating, \"Comfort_Rating\":Comfort_Rating, \"Value_For_Money_Rating\":Value_For_Money_Rating, \"Location_Rating\":Location_Rating, \"Free_WiFi_Rating\":Free_WiFi_Rating, \"Final_Grade\":Final_Grade}\n",
    "df = pd.DataFrame(data=dfdict)\n",
    "df.to_csv('./BookingHotels.csv')\n",
    "df.style\n",
    "\n",
    "\n",
    "\n",
    "\n",
    "    "
   ]
  },
  {
   "cell_type": "markdown",
   "id": "0fe0f26e",
   "metadata": {},
   "source": [
    "## This is the end of the Data Acquisition section\n",
    "#### In order to work more efficiently, we will now work on our csv that we saved to our computer."
   ]
  },
  {
   "cell_type": "markdown",
   "id": "93c56c4d",
   "metadata": {},
   "source": [
    "#### As we can see below, the DataFrame has 9 columns :\n",
    "     - one column for the name of the hotel\n",
    "     - 8 columns for different parameters which store values between 0 - 10 as 'float'"
   ]
  },
  {
   "cell_type": "code",
   "execution_count": 79,
   "id": "0a9c0247",
   "metadata": {},
   "outputs": [
    {
     "data": {
      "text/html": [
       "<div>\n",
       "<style scoped>\n",
       "    .dataframe tbody tr th:only-of-type {\n",
       "        vertical-align: middle;\n",
       "    }\n",
       "\n",
       "    .dataframe tbody tr th {\n",
       "        vertical-align: top;\n",
       "    }\n",
       "\n",
       "    .dataframe thead th {\n",
       "        text-align: right;\n",
       "    }\n",
       "</style>\n",
       "<table border=\"1\" class=\"dataframe\">\n",
       "  <thead>\n",
       "    <tr style=\"text-align: right;\">\n",
       "      <th></th>\n",
       "      <th>Hotel_Names</th>\n",
       "      <th>Staff_Rating</th>\n",
       "      <th>Facilities_Rating</th>\n",
       "      <th>Cleanliness_Rating</th>\n",
       "      <th>Comfort_Rating</th>\n",
       "      <th>Value_For_Money_Rating</th>\n",
       "      <th>Location_Rating</th>\n",
       "      <th>Free_WiFi_Rating</th>\n",
       "      <th>Final_Grade</th>\n",
       "    </tr>\n",
       "  </thead>\n",
       "  <tbody>\n",
       "    <tr>\n",
       "      <th>0</th>\n",
       "      <td>desert-view</td>\n",
       "      <td>9.4</td>\n",
       "      <td>9.0</td>\n",
       "      <td>8.9</td>\n",
       "      <td>9.2</td>\n",
       "      <td>9.0</td>\n",
       "      <td>9.1</td>\n",
       "      <td>9.2</td>\n",
       "      <td>8.9</td>\n",
       "    </tr>\n",
       "    <tr>\n",
       "      <th>1</th>\n",
       "      <td>eretz-zeelim</td>\n",
       "      <td>8.4</td>\n",
       "      <td>7.8</td>\n",
       "      <td>7.8</td>\n",
       "      <td>7.7</td>\n",
       "      <td>7.2</td>\n",
       "      <td>8.1</td>\n",
       "      <td>4.6</td>\n",
       "      <td>7.6</td>\n",
       "    </tr>\n",
       "    <tr>\n",
       "      <th>2</th>\n",
       "      <td>kibbutz-lotan-ecotourism</td>\n",
       "      <td>9.3</td>\n",
       "      <td>8.0</td>\n",
       "      <td>8.6</td>\n",
       "      <td>8.3</td>\n",
       "      <td>8.4</td>\n",
       "      <td>9.0</td>\n",
       "      <td>7.8</td>\n",
       "      <td>8.3</td>\n",
       "    </tr>\n",
       "    <tr>\n",
       "      <th>3</th>\n",
       "      <td>desert-iris</td>\n",
       "      <td>8.3</td>\n",
       "      <td>7.6</td>\n",
       "      <td>7.6</td>\n",
       "      <td>8.1</td>\n",
       "      <td>7.4</td>\n",
       "      <td>8.3</td>\n",
       "      <td>7.3</td>\n",
       "      <td>7.7</td>\n",
       "    </tr>\n",
       "    <tr>\n",
       "      <th>4</th>\n",
       "      <td>amazing-bedouin-hospitality</td>\n",
       "      <td>9.8</td>\n",
       "      <td>8.9</td>\n",
       "      <td>9.2</td>\n",
       "      <td>9.0</td>\n",
       "      <td>9.3</td>\n",
       "      <td>8.6</td>\n",
       "      <td>9.1</td>\n",
       "      <td>9.2</td>\n",
       "    </tr>\n",
       "  </tbody>\n",
       "</table>\n",
       "</div>"
      ],
      "text/plain": [
       "                   Hotel_Names  Staff_Rating  Facilities_Rating  \\\n",
       "0                  desert-view           9.4                9.0   \n",
       "1                 eretz-zeelim           8.4                7.8   \n",
       "2     kibbutz-lotan-ecotourism           9.3                8.0   \n",
       "3                  desert-iris           8.3                7.6   \n",
       "4  amazing-bedouin-hospitality           9.8                8.9   \n",
       "\n",
       "   Cleanliness_Rating  Comfort_Rating  Value_For_Money_Rating  \\\n",
       "0                 8.9             9.2                     9.0   \n",
       "1                 7.8             7.7                     7.2   \n",
       "2                 8.6             8.3                     8.4   \n",
       "3                 7.6             8.1                     7.4   \n",
       "4                 9.2             9.0                     9.3   \n",
       "\n",
       "   Location_Rating  Free_WiFi_Rating  Final_Grade  \n",
       "0              9.1               9.2          8.9  \n",
       "1              8.1               4.6          7.6  \n",
       "2              9.0               7.8          8.3  \n",
       "3              8.3               7.3          7.7  \n",
       "4              8.6               9.1          9.2  "
      ]
     },
     "execution_count": 79,
     "metadata": {},
     "output_type": "execute_result"
    }
   ],
   "source": [
    "# Lets read the csv with the help of pandas function. \n",
    "# We use the index_col=[0] to drop the column indexes brought by the CSV file and has nothing to do with\n",
    "df = pd.read_csv('./BookingHotels.csv', index_col=[0])\n",
    "df.head()"
   ]
  },
  {
   "cell_type": "markdown",
   "id": "29cce334",
   "metadata": {},
   "source": [
    "## Inspecting our DataFrame"
   ]
  },
  {
   "cell_type": "markdown",
   "id": "852708da",
   "metadata": {},
   "source": [
    "#### As we can see Below :  \n",
    "#### our complete DataFrame (after fetching data through Crawling) has 7999 rows, and 9 columns\n",
    "    - 1 column store the hotel name as type 'Object'\n",
    "    - 8 columns store values of type 'float'"
   ]
  },
  {
   "cell_type": "code",
   "execution_count": 5,
   "id": "a71c86c8",
   "metadata": {},
   "outputs": [
    {
     "name": "stdout",
     "output_type": "stream",
     "text": [
      "<class 'pandas.core.frame.DataFrame'>\n",
      "Int64Index: 8000 entries, 0 to 7999\n",
      "Data columns (total 9 columns):\n",
      " #   Column                  Non-Null Count  Dtype  \n",
      "---  ------                  --------------  -----  \n",
      " 0   Hotel_Names             8000 non-null   object \n",
      " 1   Staff_Rating            8000 non-null   float64\n",
      " 2   Facilities_Rating       8000 non-null   float64\n",
      " 3   Cleanliness_Rating      8000 non-null   float64\n",
      " 4   Comfort_Rating          8000 non-null   float64\n",
      " 5   Value_For_Money_Rating  8000 non-null   float64\n",
      " 6   Location_Rating         8000 non-null   float64\n",
      " 7   Free_WiFi_Rating        8000 non-null   float64\n",
      " 8   Final_Grade             8000 non-null   float64\n",
      "dtypes: float64(8), object(1)\n",
      "memory usage: 625.0+ KB\n"
     ]
    }
   ],
   "source": [
    "df.info()"
   ]
  },
  {
   "cell_type": "markdown",
   "id": "5868a311",
   "metadata": {},
   "source": [
    "# Data Cleaning"
   ]
  },
  {
   "cell_type": "markdown",
   "id": "16324207",
   "metadata": {},
   "source": [
    "### To clean our data we have to do  2 steps :\n",
    "### - First we will drop all the rows that has missing values indicated with a default value of 0.0 .\n",
    "### - Next, we will dtop all the dplicated rows compared to the hotel name column."
   ]
  },
  {
   "cell_type": "code",
   "execution_count": 80,
   "id": "84687025",
   "metadata": {},
   "outputs": [
    {
     "name": "stdout",
     "output_type": "stream",
     "text": [
      "<class 'pandas.core.frame.DataFrame'>\n",
      "RangeIndex: 1978 entries, 0 to 1977\n",
      "Data columns (total 9 columns):\n",
      " #   Column                  Non-Null Count  Dtype  \n",
      "---  ------                  --------------  -----  \n",
      " 0   Hotel_Names             1978 non-null   object \n",
      " 1   Staff_Rating            1978 non-null   float64\n",
      " 2   Facilities_Rating       1978 non-null   float64\n",
      " 3   Cleanliness_Rating      1978 non-null   float64\n",
      " 4   Comfort_Rating          1978 non-null   float64\n",
      " 5   Value_For_Money_Rating  1978 non-null   float64\n",
      " 6   Location_Rating         1978 non-null   float64\n",
      " 7   Free_WiFi_Rating        1978 non-null   float64\n",
      " 8   Final_Grade             1978 non-null   float64\n",
      "dtypes: float64(8), object(1)\n",
      "memory usage: 139.2+ KB\n"
     ]
    }
   ],
   "source": [
    "# in this code block we will handle our data inside our DataFrame that is incompatibe with our desired data.\n",
    "# first we will remove all missing data indicated by values of 0.0\n",
    "# after that we will drop dupliacted rows and we can simply check that by checking if the Hotel Name appear more than once\n",
    "# after that we will reset the indexes \n",
    "df2 = df[df.Comfort_Rating != 0.0]\n",
    "df2 = df2.drop_duplicates(subset=['Hotel_Names'])\n",
    "df2.reset_index(drop=True, inplace=True)\n",
    "df2.info()\n",
    "df3 = df2.copy()"
   ]
  },
  {
   "cell_type": "markdown",
   "id": "3e551a2d",
   "metadata": {},
   "source": [
    "# Data Visualizations"
   ]
  },
  {
   "cell_type": "markdown",
   "id": "9050ba3b",
   "metadata": {},
   "source": [
    "#### For our visualizations we will focus on showing the relations between our parameters.\n",
    "#### Specifically each parameter will be compared to the final grade:\n",
    "        - for example the first graph (first row first column) shows the relation\n",
    "          between the Staff_Rating and the Final_Grade.\n",
    "          \n",
    "As we can see below, all the relations are linear.  \n",
    "For example we can see that for the first graph the final grade gets higher as the staff rating gets higher."
   ]
  },
  {
   "cell_type": "code",
   "execution_count": 23,
   "id": "72a9d2d3",
   "metadata": {},
   "outputs": [
    {
     "data": {
      "image/png": "[encoded data removed]",
      "text/plain": [
       "<Figure size 720x720 with 6 Axes>"
      ]
     },
     "metadata": {
      "needs_background": "light"
     },
     "output_type": "display_data"
    }
   ],
   "source": [
    "for i in range(1,7):\n",
    "    firstcol = df.columns[i] # Location_Rating\n",
    "    plt.subplot(2, 3, i)\n",
    "    plt.gcf().set_size_inches((10, 10)) \n",
    "    plt.scatter(df2.Final_Grade, df2[firstcol])\n",
    "    plt.xlabel('Final_Grade',fontsize = 8)\n",
    "    plt.ylabel(df2.columns[i],fontsize = 8)\n",
    "    \n",
    "    \n",
    "    \n",
    "plt.tight_layout()"
   ]
  },
  {
   "cell_type": "markdown",
   "id": "0dd22b64",
   "metadata": {},
   "source": [
    "### Lets change \"Free_WiFi_Rating\" column values to 0 or 1"
   ]
  },
  {
   "cell_type": "code",
   "execution_count": 81,
   "id": "afbc2a6c",
   "metadata": {},
   "outputs": [],
   "source": [
    "# this function will serve us for replacing values in the column \"Free_WiFi_Rating\"\n",
    "# first we will get the median value of the column and call this variable m\n",
    "# we will replace all values that are greater than m to 1\n",
    "# we will replace all values that are lower than m to 0\n",
    "def value_to_binary(x):\n",
    "    global m\n",
    "    if x > m:\n",
    "        return int(1)\n",
    "    else:\n",
    "        return int(0)\n",
    "    \n"
   ]
  },
  {
   "cell_type": "code",
   "execution_count": 82,
   "id": "e309aced",
   "metadata": {},
   "outputs": [
    {
     "data": {
      "text/html": [
       "<div>\n",
       "<style scoped>\n",
       "    .dataframe tbody tr th:only-of-type {\n",
       "        vertical-align: middle;\n",
       "    }\n",
       "\n",
       "    .dataframe tbody tr th {\n",
       "        vertical-align: top;\n",
       "    }\n",
       "\n",
       "    .dataframe thead th {\n",
       "        text-align: right;\n",
       "    }\n",
       "</style>\n",
       "<table border=\"1\" class=\"dataframe\">\n",
       "  <thead>\n",
       "    <tr style=\"text-align: right;\">\n",
       "      <th></th>\n",
       "      <th>Hotel_Names</th>\n",
       "      <th>Staff_Rating</th>\n",
       "      <th>Facilities_Rating</th>\n",
       "      <th>Cleanliness_Rating</th>\n",
       "      <th>Comfort_Rating</th>\n",
       "      <th>Value_For_Money_Rating</th>\n",
       "      <th>Location_Rating</th>\n",
       "      <th>Free_WiFi_Rating</th>\n",
       "      <th>Final_Grade</th>\n",
       "    </tr>\n",
       "  </thead>\n",
       "  <tbody>\n",
       "    <tr>\n",
       "      <th>0</th>\n",
       "      <td>desert-view</td>\n",
       "      <td>9.4</td>\n",
       "      <td>9.0</td>\n",
       "      <td>8.9</td>\n",
       "      <td>9.2</td>\n",
       "      <td>9.0</td>\n",
       "      <td>9.1</td>\n",
       "      <td>1</td>\n",
       "      <td>8.9</td>\n",
       "    </tr>\n",
       "    <tr>\n",
       "      <th>1</th>\n",
       "      <td>eretz-zeelim</td>\n",
       "      <td>8.4</td>\n",
       "      <td>7.8</td>\n",
       "      <td>7.8</td>\n",
       "      <td>7.7</td>\n",
       "      <td>7.2</td>\n",
       "      <td>8.1</td>\n",
       "      <td>0</td>\n",
       "      <td>7.6</td>\n",
       "    </tr>\n",
       "    <tr>\n",
       "      <th>2</th>\n",
       "      <td>kibbutz-lotan-ecotourism</td>\n",
       "      <td>9.3</td>\n",
       "      <td>8.0</td>\n",
       "      <td>8.6</td>\n",
       "      <td>8.3</td>\n",
       "      <td>8.4</td>\n",
       "      <td>9.0</td>\n",
       "      <td>0</td>\n",
       "      <td>8.3</td>\n",
       "    </tr>\n",
       "    <tr>\n",
       "      <th>3</th>\n",
       "      <td>desert-iris</td>\n",
       "      <td>8.3</td>\n",
       "      <td>7.6</td>\n",
       "      <td>7.6</td>\n",
       "      <td>8.1</td>\n",
       "      <td>7.4</td>\n",
       "      <td>8.3</td>\n",
       "      <td>0</td>\n",
       "      <td>7.7</td>\n",
       "    </tr>\n",
       "    <tr>\n",
       "      <th>4</th>\n",
       "      <td>amazing-bedouin-hospitality</td>\n",
       "      <td>9.8</td>\n",
       "      <td>8.9</td>\n",
       "      <td>9.2</td>\n",
       "      <td>9.0</td>\n",
       "      <td>9.3</td>\n",
       "      <td>8.6</td>\n",
       "      <td>1</td>\n",
       "      <td>9.2</td>\n",
       "    </tr>\n",
       "  </tbody>\n",
       "</table>\n",
       "</div>"
      ],
      "text/plain": [
       "                   Hotel_Names  Staff_Rating  Facilities_Rating  \\\n",
       "0                  desert-view           9.4                9.0   \n",
       "1                 eretz-zeelim           8.4                7.8   \n",
       "2     kibbutz-lotan-ecotourism           9.3                8.0   \n",
       "3                  desert-iris           8.3                7.6   \n",
       "4  amazing-bedouin-hospitality           9.8                8.9   \n",
       "\n",
       "   Cleanliness_Rating  Comfort_Rating  Value_For_Money_Rating  \\\n",
       "0                 8.9             9.2                     9.0   \n",
       "1                 7.8             7.7                     7.2   \n",
       "2                 8.6             8.3                     8.4   \n",
       "3                 7.6             8.1                     7.4   \n",
       "4                 9.2             9.0                     9.3   \n",
       "\n",
       "   Location_Rating  Free_WiFi_Rating  Final_Grade  \n",
       "0              9.1                 1          8.9  \n",
       "1              8.1                 0          7.6  \n",
       "2              9.0                 0          8.3  \n",
       "3              8.3                 0          7.7  \n",
       "4              8.6                 1          9.2  "
      ]
     },
     "execution_count": 82,
     "metadata": {},
     "output_type": "execute_result"
    }
   ],
   "source": [
    "# assigning the value m with the median value of the column \"Free_WiFi_Rating\"\n",
    "# using apply function to update our column values to 0 or 1 \n",
    "m = df2['Free_WiFi_Rating'].mean()\n",
    "df2[\"Free_WiFi_Rating\"] = df2[\"Free_WiFi_Rating\"].apply(value_to_binary)\n",
    "df2.head()"
   ]
  },
  {
   "cell_type": "markdown",
   "id": "44557dda",
   "metadata": {},
   "source": [
    "### As we can see below, after the update of the \"Free_WiFi_Rating\" column :\n",
    "      - we have 1155 hotels that their Free_WiFi_Rating is above avrage\n",
    "        and 823 hotels that their Free_WiFi_Rating is below avrage "
   ]
  },
  {
   "cell_type": "code",
   "execution_count": 20,
   "id": "1ab26388",
   "metadata": {},
   "outputs": [
    {
     "data": {
      "text/plain": [
       "1    1155\n",
       "0     823\n",
       "Name: Free_WiFi_Rating, dtype: int64"
      ]
     },
     "execution_count": 20,
     "metadata": {},
     "output_type": "execute_result"
    }
   ],
   "source": [
    "df2[\"Free_WiFi_Rating\"].value_counts()"
   ]
  },
  {
   "cell_type": "markdown",
   "id": "1e6bcc85",
   "metadata": {},
   "source": [
    "### The next pie chart shows us that most hotels have Free_WiFi_Rating above avrage"
   ]
  },
  {
   "cell_type": "code",
   "execution_count": 21,
   "id": "76a4f8fe",
   "metadata": {},
   "outputs": [
    {
     "data": {
      "text/plain": [
       "<AxesSubplot:ylabel='Free_WiFi_Rating'>"
      ]
     },
     "execution_count": 21,
     "metadata": {},
     "output_type": "execute_result"
    },
    {
     "data": {
      "image/png": "[encoded data removed]",
      "text/plain": [
       "<Figure size 432x288 with 1 Axes>"
      ]
     },
     "metadata": {},
     "output_type": "display_data"
    }
   ],
   "source": [
    "df2[\"Free_WiFi_Rating\"].value_counts().plot(kind='pie')"
   ]
  },
  {
   "cell_type": "markdown",
   "id": "6ba0efc1",
   "metadata": {},
   "source": [
    "# Machine Learning "
   ]
  },
  {
   "cell_type": "markdown",
   "id": "20a87ddb",
   "metadata": {},
   "source": [
    "### In the next section we will be using Machine Learning algorithm \n",
    "### to check how precise we can predict the Final Grade of hotel fiven known parameters.\n",
    "First, we only need the columns that are numeric, which means we don't need the \"Hotel_Names\" column.  "
   ]
  },
  {
   "cell_type": "code",
   "execution_count": 83,
   "id": "068579bd",
   "metadata": {},
   "outputs": [],
   "source": [
    "df_copy_learn=df3[[\"Staff_Rating\",\"Facilities_Rating\",\"Cleanliness_Rating\"\n",
    "                   ,\"Comfort_Rating\",\"Value_For_Money_Rating\",\"Location_Rating\",\"Free_WiFi_Rating\",\"Final_Grade\"]].copy()"
   ]
  },
  {
   "cell_type": "markdown",
   "id": "e180b8ae",
   "metadata": {},
   "source": [
    "### Linear Regression"
   ]
  },
  {
   "cell_type": "markdown",
   "id": "e52d2690",
   "metadata": {},
   "source": [
    "Our target column that we want to be able to predict is the column \"Final_Grade\".  \n",
    "We want to predict the exact value/Final Grade of the hotel, hence we will be using Linear Regression  \n",
    "which is a Supervised Learning type of Machine Learning\n",
    "\n"
   ]
  },
  {
   "cell_type": "code",
   "execution_count": 84,
   "id": "e9be9d0a",
   "metadata": {},
   "outputs": [
    {
     "name": "stdout",
     "output_type": "stream",
     "text": [
      "(1483, 7) (1483,)\n",
      "(495, 7) (495,)\n"
     ]
    }
   ],
   "source": [
    "# For that Kind of Machine Learning Algorithm we need to exclude the column that we wish to predict values for.\n",
    "# In our case it is the \"Final_Grade\" column.\n",
    "TRAINING_FEATURES = df_copy_learn.columns[df_copy_learn.columns != 'Final_Grade']\n",
    "TARGET_FEATURE = 'Final_Grade'\n",
    "\n",
    "x = df_copy_learn[TRAINING_FEATURES] # matrix X of all the features (Staff_Rating,Facilities_Rating.....)\n",
    "y = df_copy_learn[TARGET_FEATURE] # vector y (label) shows only Final_Grade (Our prediction)\n",
    "\n",
    "# The train test method is used to split our data in such way that most values are used to train the model\n",
    "# and saves a small portion of the data to test what the model \"learned\"\n",
    "# we will be using 75% of the data to train the model, and the test size will be 25% of the data.\n",
    "x_train, x_test, y_train, y_test = train_test_split(x, y, test_size = 0.25)\n",
    "print(x_train.shape, y_train.shape)\n",
    "print(x_test.shape, y_test.shape)"
   ]
  },
  {
   "cell_type": "markdown",
   "id": "2288749a",
   "metadata": {},
   "source": [
    "### Now lets train our model with the data that we split"
   ]
  },
  {
   "cell_type": "code",
   "execution_count": 85,
   "id": "d80837c8",
   "metadata": {},
   "outputs": [],
   "source": [
    "lrm = linear_model.LinearRegression()\n",
    "lrm_model = lrm.fit(x_train, y_train)\n",
    "lrm_predictions = lrm.predict(x_test)"
   ]
  },
  {
   "cell_type": "markdown",
   "id": "ff47319f",
   "metadata": {},
   "source": [
    "### Now lets display the predictions used on the 75% data used to test our model."
   ]
  },
  {
   "cell_type": "code",
   "execution_count": 86,
   "id": "cea7d252",
   "metadata": {},
   "outputs": [
    {
     "data": {
      "text/plain": [
       "array([ 9.31300675,  8.26668924,  9.32442865,  8.83435922,  9.73700437,\n",
       "        7.86907492,  9.23917421,  7.41419466,  8.35928203,  7.39644383,\n",
       "        8.56705073,  7.1611106 ,  9.37617743,  8.62495547,  9.49517814,\n",
       "        7.95818976,  8.43083421,  9.36634841,  6.93283131,  8.08529404,\n",
       "        9.31090309,  9.05616091,  7.95022712,  9.6747489 ,  6.8043373 ,\n",
       "        9.46312917,  8.01684484,  9.37937709,  8.37369835,  9.47669717,\n",
       "        8.55442935,  9.03485017,  9.06574614,  8.42602391,  7.7534389 ,\n",
       "        9.80251066,  5.9647564 ,  7.72042214,  7.65796203,  9.66116505,\n",
       "        8.91436419,  8.97140238,  8.31659104,  7.01350296,  7.8063495 ,\n",
       "        9.03218339,  8.20544049,  8.51993468,  8.90765751,  8.52849584,\n",
       "        9.26658616,  8.55513325,  8.0149102 ,  8.78601451,  7.77520046,\n",
       "        7.64916443,  9.14272874,  9.49453943,  7.71233314,  7.58922131,\n",
       "        6.72092624,  9.2966636 ,  9.10556803,  9.66391957,  7.30217443,\n",
       "        9.13202216,  9.44303264,  9.58683626,  9.01174716,  9.56392586,\n",
       "        9.34436189,  8.00830529,  9.31617558,  8.00251627,  9.80746852,\n",
       "        7.28473858,  7.90339033,  6.2618465 ,  7.17819129,  9.2817536 ,\n",
       "        8.53474682,  8.0640457 ,  9.34227688,  7.87259858,  8.40427845,\n",
       "        9.67188735,  7.70022224,  8.96204039,  9.22793374,  9.10416089,\n",
       "        8.4424202 ,  8.90511676,  9.39065541,  5.88770392,  7.48370387,\n",
       "        8.36341624,  8.58169912,  8.0214368 ,  9.1823102 ,  8.09878022,\n",
       "        8.74001778,  9.25647978,  8.50097599,  8.87367512,  8.21022592,\n",
       "        7.60871047,  9.07985545,  8.26465486,  4.83707894,  7.56966633,\n",
       "        8.56372811,  9.27756652,  8.78740811,  9.24622548,  9.03752389,\n",
       "        9.59365064,  7.81685269,  9.72107661,  9.95009005,  7.97216985,\n",
       "        8.40872855,  8.06407739,  9.03670889,  9.63457575,  8.40822292,\n",
       "        8.43351491,  9.62207349,  7.37818354,  7.88684686,  9.78469643,\n",
       "        8.04407344,  9.76710651,  7.83518221,  8.89113917,  7.90718192,\n",
       "        9.89526076,  6.42978874,  8.22716358,  8.87160041,  8.9044961 ,\n",
       "        6.74407884,  7.76882073,  9.43094062,  9.26238949,  9.47167465,\n",
       "        9.61578713,  8.76542434,  8.33401694,  9.76972127,  8.88191789,\n",
       "        6.77799773,  8.13766404,  7.84923876,  8.43947008,  6.80179997,\n",
       "        9.64049329,  8.9524506 ,  8.44322799,  9.29634628,  9.77188678,\n",
       "        6.17596972,  9.45972413,  8.50025089,  8.63127441,  9.88034434,\n",
       "        9.68668779,  9.04115371,  9.40376486,  8.73703452,  6.84098008,\n",
       "        8.99202256,  8.9828103 ,  9.72312609,  7.69441695,  8.9975908 ,\n",
       "        9.58936657,  8.37554684,  8.59451089,  8.75305411,  8.56988061,\n",
       "        9.47434156,  8.72623092,  9.01729456,  9.37120472,  8.95246428,\n",
       "        9.34577163,  5.97009229,  6.53005621,  9.64029032,  9.00146132,\n",
       "        9.26144097,  8.17143813,  8.57341076,  9.45172157,  6.07702393,\n",
       "        9.65001326,  9.11321969,  8.65479183,  9.50923503,  8.86220007,\n",
       "        9.13612442,  6.74412477,  9.15164787,  9.20228461,  8.61892061,\n",
       "        9.60493522,  8.58128006,  8.01052156,  6.54064088,  9.4122565 ,\n",
       "        6.03113073,  9.34253481,  7.99872405,  9.44958432,  9.02883643,\n",
       "        9.51664813,  7.94213757,  9.80331742,  7.94539414,  9.43609106,\n",
       "        9.64065607,  9.39116147,  8.33559691,  8.60176138,  9.75852681,\n",
       "        9.13382654,  9.8139286 ,  5.37162872,  9.20157957,  8.20559485,\n",
       "        9.8213265 ,  7.92309616,  9.06016442,  8.09275357,  8.45565748,\n",
       "        9.37520188,  9.06642434,  8.57588865,  9.26711195,  7.02667221,\n",
       "        9.19548414,  9.53199203,  8.21088702,  8.63582274,  9.64905255,\n",
       "        8.34028509,  9.33137725,  8.77406846,  8.07817444,  6.43951011,\n",
       "        8.60251203,  9.53110589,  9.07428862,  9.58010196,  8.39794085,\n",
       "        7.88798597,  7.53572969,  8.75875381,  8.26960344,  7.62850597,\n",
       "        9.42486687,  8.45616631,  8.28320896,  8.76366101,  9.25009605,\n",
       "        9.54162226,  9.18826311,  9.48742756,  9.41595398,  8.25124576,\n",
       "        8.9907286 ,  9.61080835,  7.74852675,  9.34144717,  9.47601417,\n",
       "        9.38140823,  9.02690624,  8.27543931,  8.14986215,  9.17356218,\n",
       "        8.36811262,  8.77023487,  7.73322474,  8.34343989,  8.82249429,\n",
       "        7.61340422,  9.1913482 ,  9.23018795,  9.0278261 ,  9.75745392,\n",
       "        8.37467206,  9.25930573,  8.63211516,  8.1827506 ,  6.61166186,\n",
       "        9.83652531,  8.95366211,  7.7350078 ,  8.57627103,  6.16302232,\n",
       "        7.88687057,  8.55594247,  7.88663507,  7.67604052,  9.24228169,\n",
       "        7.70003781,  9.6740887 ,  8.70776845,  9.53465296,  7.72010727,\n",
       "        9.00118882,  9.3448877 ,  9.49431942,  9.38390565,  8.55615551,\n",
       "        9.18964972,  9.83700008,  9.82614336,  9.48850569,  8.00656065,\n",
       "        9.10376341,  8.50080254,  9.70919161,  8.69377953,  6.0386649 ,\n",
       "        9.88602087,  8.05981175,  8.54439175,  9.73779888,  8.50619283,\n",
       "        9.50959804,  9.33287977,  8.99765506,  9.35499892,  8.92604374,\n",
       "        8.96895459,  6.45254066,  8.90820315,  6.87528649,  7.57783233,\n",
       "        8.87021975,  7.33322774,  9.19771699,  7.37188881,  9.15115596,\n",
       "        7.97956893,  9.06325254,  9.57290944,  9.51845352,  8.78217182,\n",
       "        9.11116737,  7.92174396,  8.10848931,  9.42321465,  6.55199586,\n",
       "        8.92232857,  8.77894351,  8.91180624,  8.58062653,  8.86552489,\n",
       "        7.1494596 ,  8.43390613,  9.05889426,  9.22684976,  8.64678802,\n",
       "        7.34529579,  8.88079986,  9.14255404,  7.76462653,  9.47274933,\n",
       "        8.74376724,  9.23430018,  9.25317069,  7.4747922 ,  8.91411969,\n",
       "        6.99485226, 10.00117384,  9.21998311,  8.48332928,  8.33499187,\n",
       "        7.53926529,  8.97048285,  9.26996418,  8.28184427,  7.84157816,\n",
       "        9.01912606,  8.91579291,  8.83814467,  7.9635003 ,  8.69407438,\n",
       "        8.74210526,  7.98957884,  8.65058529,  8.95741648,  9.36044923,\n",
       "        7.89467708,  9.50318683,  9.85822983,  8.90054799,  9.91663934,\n",
       "        8.21217452,  8.14364667,  9.3020058 ,  7.41855505,  9.47431673,\n",
       "        8.32369676,  8.38909822,  8.7340212 ,  7.86424391,  6.95814721,\n",
       "        9.49717466,  9.59369477,  7.9276001 ,  6.18642817,  9.05287546,\n",
       "        9.05403467,  8.11234908,  7.99995328,  8.85303521,  7.4697572 ,\n",
       "        9.06780857,  9.48979341,  8.94146665,  9.15926621,  7.91149622,\n",
       "        9.01971248,  9.87998977,  8.91157774,  8.07736921,  6.46328807,\n",
       "        9.01453914,  8.67784641,  9.79175235,  4.7494536 ,  9.69061428,\n",
       "        8.14090401,  7.957827  ,  9.45512006,  8.5395882 ,  8.76628339,\n",
       "        8.89150049,  8.93631035,  8.67297113,  7.6027198 ,  8.6788107 ,\n",
       "        6.54861271,  8.19093313,  9.08521684,  8.68996601,  7.40356717,\n",
       "        9.56441251,  9.10039391,  8.27586348,  9.3500538 ,  8.9432156 ,\n",
       "        9.65907671,  7.17464791,  8.97543984,  8.81132506,  9.82102114,\n",
       "        8.65745255,  9.28562209,  8.90391884,  7.58360017,  8.57654346,\n",
       "        8.09079869,  8.95769982,  9.12142068,  6.30519752,  9.31298644,\n",
       "        7.49043349,  8.56860495,  8.47004014,  7.24964689,  9.40772166,\n",
       "        9.54399059,  9.51374458,  8.19911834,  7.28772707,  9.58977952,\n",
       "        8.78454583,  8.89931397,  8.31305563,  7.69988452,  8.62921949,\n",
       "        9.8128095 ,  8.54338322,  9.57018444,  7.04832365,  6.27653407,\n",
       "        7.56817373,  7.5411788 ,  7.7259148 ,  8.82795633,  7.46133947])"
      ]
     },
     "execution_count": 86,
     "metadata": {},
     "output_type": "execute_result"
    }
   ],
   "source": [
    "lrm_predictions"
   ]
  },
  {
   "cell_type": "markdown",
   "id": "4b50660a",
   "metadata": {},
   "source": [
    "# How percise are the predictions ?"
   ]
  },
  {
   "cell_type": "markdown",
   "id": "43210d3a",
   "metadata": {},
   "source": [
    "As we can see below that the precision has a score of 0.97 approximately, out of 1 "
   ]
  },
  {
   "cell_type": "code",
   "execution_count": 87,
   "id": "1ffd5f9d",
   "metadata": {},
   "outputs": [
    {
     "name": "stdout",
     "output_type": "stream",
     "text": [
      "Score:  0.9734170440023154\n"
     ]
    }
   ],
   "source": [
    "print(\"Score: \", lrm_model.score(x_test, y_test))"
   ]
  },
  {
   "cell_type": "markdown",
   "id": "32c6d653",
   "metadata": {},
   "source": [
    "### Now that we have our predictions we can display them next to the regular Final Grade\n",
    "We will build a new DataFrame consists of the the \"x_test\" original data and a new column for the preditctions"
   ]
  },
  {
   "cell_type": "code",
   "execution_count": 76,
   "id": "5a765c97",
   "metadata": {},
   "outputs": [
    {
     "data": {
      "text/html": [
       "<div>\n",
       "<style scoped>\n",
       "    .dataframe tbody tr th:only-of-type {\n",
       "        vertical-align: middle;\n",
       "    }\n",
       "\n",
       "    .dataframe tbody tr th {\n",
       "        vertical-align: top;\n",
       "    }\n",
       "\n",
       "    .dataframe thead th {\n",
       "        text-align: right;\n",
       "    }\n",
       "</style>\n",
       "<table border=\"1\" class=\"dataframe\">\n",
       "  <thead>\n",
       "    <tr style=\"text-align: right;\">\n",
       "      <th></th>\n",
       "      <th>Staff_Rating</th>\n",
       "      <th>Facilities_Rating</th>\n",
       "      <th>Cleanliness_Rating</th>\n",
       "      <th>Comfort_Rating</th>\n",
       "      <th>Value_For_Money_Rating</th>\n",
       "      <th>Location_Rating</th>\n",
       "      <th>Free_WiFi_Rating</th>\n",
       "      <th>Actual_Grade</th>\n",
       "      <th>Predicted_Grade</th>\n",
       "    </tr>\n",
       "  </thead>\n",
       "  <tbody>\n",
       "    <tr>\n",
       "      <th>0</th>\n",
       "      <td>9.2</td>\n",
       "      <td>8.9</td>\n",
       "      <td>8.3</td>\n",
       "      <td>8.9</td>\n",
       "      <td>8.6</td>\n",
       "      <td>8.9</td>\n",
       "      <td>10.0</td>\n",
       "      <td>8.7</td>\n",
       "      <td>8.712052</td>\n",
       "    </tr>\n",
       "    <tr>\n",
       "      <th>1</th>\n",
       "      <td>8.5</td>\n",
       "      <td>7.6</td>\n",
       "      <td>8.1</td>\n",
       "      <td>7.8</td>\n",
       "      <td>7.8</td>\n",
       "      <td>8.8</td>\n",
       "      <td>8.0</td>\n",
       "      <td>8.0</td>\n",
       "      <td>7.779839</td>\n",
       "    </tr>\n",
       "    <tr>\n",
       "      <th>2</th>\n",
       "      <td>8.9</td>\n",
       "      <td>8.1</td>\n",
       "      <td>8.7</td>\n",
       "      <td>8.1</td>\n",
       "      <td>8.3</td>\n",
       "      <td>8.4</td>\n",
       "      <td>8.6</td>\n",
       "      <td>8.3</td>\n",
       "      <td>8.175470</td>\n",
       "    </tr>\n",
       "    <tr>\n",
       "      <th>3</th>\n",
       "      <td>10.0</td>\n",
       "      <td>10.0</td>\n",
       "      <td>9.9</td>\n",
       "      <td>10.0</td>\n",
       "      <td>10.0</td>\n",
       "      <td>10.0</td>\n",
       "      <td>10.0</td>\n",
       "      <td>9.9</td>\n",
       "      <td>9.989191</td>\n",
       "    </tr>\n",
       "    <tr>\n",
       "      <th>4</th>\n",
       "      <td>8.2</td>\n",
       "      <td>7.5</td>\n",
       "      <td>7.6</td>\n",
       "      <td>7.7</td>\n",
       "      <td>7.8</td>\n",
       "      <td>9.4</td>\n",
       "      <td>9.0</td>\n",
       "      <td>7.8</td>\n",
       "      <td>7.679474</td>\n",
       "    </tr>\n",
       "    <tr>\n",
       "      <th>...</th>\n",
       "      <td>...</td>\n",
       "      <td>...</td>\n",
       "      <td>...</td>\n",
       "      <td>...</td>\n",
       "      <td>...</td>\n",
       "      <td>...</td>\n",
       "      <td>...</td>\n",
       "      <td>...</td>\n",
       "      <td>...</td>\n",
       "    </tr>\n",
       "    <tr>\n",
       "      <th>490</th>\n",
       "      <td>8.6</td>\n",
       "      <td>8.7</td>\n",
       "      <td>8.9</td>\n",
       "      <td>8.9</td>\n",
       "      <td>8.9</td>\n",
       "      <td>8.7</td>\n",
       "      <td>6.9</td>\n",
       "      <td>8.7</td>\n",
       "      <td>8.573593</td>\n",
       "    </tr>\n",
       "    <tr>\n",
       "      <th>491</th>\n",
       "      <td>7.9</td>\n",
       "      <td>6.2</td>\n",
       "      <td>6.0</td>\n",
       "      <td>6.2</td>\n",
       "      <td>7.2</td>\n",
       "      <td>8.6</td>\n",
       "      <td>7.4</td>\n",
       "      <td>6.6</td>\n",
       "      <td>6.535291</td>\n",
       "    </tr>\n",
       "    <tr>\n",
       "      <th>492</th>\n",
       "      <td>9.3</td>\n",
       "      <td>8.6</td>\n",
       "      <td>9.0</td>\n",
       "      <td>9.0</td>\n",
       "      <td>8.3</td>\n",
       "      <td>9.7</td>\n",
       "      <td>9.0</td>\n",
       "      <td>8.8</td>\n",
       "      <td>8.820707</td>\n",
       "    </tr>\n",
       "    <tr>\n",
       "      <th>493</th>\n",
       "      <td>8.9</td>\n",
       "      <td>7.9</td>\n",
       "      <td>8.8</td>\n",
       "      <td>8.1</td>\n",
       "      <td>8.2</td>\n",
       "      <td>9.7</td>\n",
       "      <td>8.3</td>\n",
       "      <td>8.4</td>\n",
       "      <td>8.289234</td>\n",
       "    </tr>\n",
       "    <tr>\n",
       "      <th>494</th>\n",
       "      <td>9.8</td>\n",
       "      <td>9.3</td>\n",
       "      <td>9.3</td>\n",
       "      <td>9.2</td>\n",
       "      <td>9.1</td>\n",
       "      <td>9.1</td>\n",
       "      <td>6.8</td>\n",
       "      <td>9.2</td>\n",
       "      <td>9.234822</td>\n",
       "    </tr>\n",
       "  </tbody>\n",
       "</table>\n",
       "<p>495 rows × 9 columns</p>\n",
       "</div>"
      ],
      "text/plain": [
       "     Staff_Rating  Facilities_Rating  Cleanliness_Rating  Comfort_Rating  \\\n",
       "0             9.2                8.9                 8.3             8.9   \n",
       "1             8.5                7.6                 8.1             7.8   \n",
       "2             8.9                8.1                 8.7             8.1   \n",
       "3            10.0               10.0                 9.9            10.0   \n",
       "4             8.2                7.5                 7.6             7.7   \n",
       "..            ...                ...                 ...             ...   \n",
       "490           8.6                8.7                 8.9             8.9   \n",
       "491           7.9                6.2                 6.0             6.2   \n",
       "492           9.3                8.6                 9.0             9.0   \n",
       "493           8.9                7.9                 8.8             8.1   \n",
       "494           9.8                9.3                 9.3             9.2   \n",
       "\n",
       "     Value_For_Money_Rating  Location_Rating  Free_WiFi_Rating  Actual_Grade  \\\n",
       "0                       8.6              8.9              10.0           8.7   \n",
       "1                       7.8              8.8               8.0           8.0   \n",
       "2                       8.3              8.4               8.6           8.3   \n",
       "3                      10.0             10.0              10.0           9.9   \n",
       "4                       7.8              9.4               9.0           7.8   \n",
       "..                      ...              ...               ...           ...   \n",
       "490                     8.9              8.7               6.9           8.7   \n",
       "491                     7.2              8.6               7.4           6.6   \n",
       "492                     8.3              9.7               9.0           8.8   \n",
       "493                     8.2              9.7               8.3           8.4   \n",
       "494                     9.1              9.1               6.8           9.2   \n",
       "\n",
       "     Predicted_Grade  \n",
       "0           8.712052  \n",
       "1           7.779839  \n",
       "2           8.175470  \n",
       "3           9.989191  \n",
       "4           7.679474  \n",
       "..               ...  \n",
       "490         8.573593  \n",
       "491         6.535291  \n",
       "492         8.820707  \n",
       "493         8.289234  \n",
       "494         9.234822  \n",
       "\n",
       "[495 rows x 9 columns]"
      ]
     },
     "execution_count": 76,
     "metadata": {},
     "output_type": "execute_result"
    }
   ],
   "source": [
    "Preditions_VS_Actual = pd.DataFrame(x_test)\n",
    "Preditions_VS_Actual['Actual_Grade'] = y_test\n",
    "Preditions_VS_Actual['Predicted_Grade'] = lrm_predictions\n",
    "Preditions_VS_Actual = Preditions_VS_Actual.reset_index()\n",
    "\n",
    "x_test = Preditions_VS_Actual.columns[Preditions_VS_Actual.columns != 'index']\n",
    "Preditions_VS_Actual[x_test]"
   ]
  },
  {
   "cell_type": "code",
   "execution_count": null,
   "id": "1c870e7b",
   "metadata": {},
   "outputs": [],
   "source": []
  }
 ],
 "metadata": {
  "kernelspec": {
   "display_name": "Python 3 (ipykernel)",
   "language": "python",
   "name": "python3"
  },
  "language_info": {
   "codemirror_mode": {
    "name": "ipython",
    "version": 3
   },
   "file_extension": ".py",
   "mimetype": "text/x-python",
   "name": "python",
   "nbconvert_exporter": "python",
   "pygments_lexer": "ipython3",
   "version": "3.9.7"
  }
 },
 "nbformat": 4,
 "nbformat_minor": 5
}
